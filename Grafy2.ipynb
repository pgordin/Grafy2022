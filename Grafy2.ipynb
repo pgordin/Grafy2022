{
  "cells": [
    {
      "cell_type": "markdown",
      "metadata": {
        "id": "view-in-github",
        "colab_type": "text"
      },
      "source": [
        "<a href=\"https://colab.research.google.com/github/pgordin/Grafy2022/blob/main/Grafy2.ipynb\" target=\"_parent\"><img src=\"https://colab.research.google.com/assets/colab-badge.svg\" alt=\"Open In Colab\"/></a>"
      ]
    },
    {
      "cell_type": "markdown",
      "metadata": {
        "id": "OJRjLvEwAeB5"
      },
      "source": [
        "Importowanie pakietów"
      ]
    },
    {
      "cell_type": "code",
      "execution_count": 1,
      "metadata": {
        "id": "9aTB1DniAHzp"
      },
      "outputs": [],
      "source": [
        "import numpy as np\n",
        "from random import random, seed"
      ]
    },
    {
      "cell_type": "markdown",
      "metadata": {
        "id": "ZkoGBbUqAht_"
      },
      "source": [
        "# Funkcje grafowe"
      ]
    },
    {
      "cell_type": "code",
      "execution_count": 2,
      "metadata": {
        "id": "vztYHcp6Akqq"
      },
      "outputs": [],
      "source": [
        "def print_matrix(vertices, matrix):\n",
        "  \"\"\"\n",
        "  Wypisuje na ekreanie graf zadany jako macierz sąsiedztwa\n",
        "  \"\"\"\n",
        "  n = len(matrix)\n",
        "  if (vertices is not None) and (len(vertices) == n):\n",
        "    vv = vertices\n",
        "  else:\n",
        "    vv = range(1, n+1)\n",
        "  for i in range(n):\n",
        "    print(vv[i], \":\", end=\"\")\n",
        "    for j in range(n):\n",
        "      if matrix[i,j]:\n",
        "        print(\" \", vv[j], end=\"\")\n",
        "    print(\"\")"
      ]
    },
    {
      "cell_type": "code",
      "execution_count": 3,
      "metadata": {
        "id": "6I-d23OeAl3k"
      },
      "outputs": [],
      "source": [
        "def print_graph(graph):\n",
        "  \"\"\"\n",
        "  Wypisuje graf zadany jako słownik pythona\n",
        "  \"\"\"\n",
        "  for v in graph:\n",
        "    print(v, \":\", end=\"\")\n",
        "    for u in graph[v]:\n",
        "      print(\" \", u, end=\"\")\n",
        "    print(\"\")\n",
        "    "
      ]
    },
    {
      "cell_type": "markdown",
      "metadata": {
        "id": "gjJARTpHGicG"
      },
      "source": [
        "## Tworzenie grafu (jako listy sąsiedztwa)"
      ]
    },
    {
      "cell_type": "code",
      "execution_count": 4,
      "metadata": {
        "id": "7aPBYtzrGmP8"
      },
      "outputs": [],
      "source": [
        "def add_vertex(graph, vertex):\n",
        "    \"\"\"Nowy wierzchołek do istniejącego grafu\"\"\"\n",
        "    if vertex not in graph:\n",
        "        graph[vertex] = []\n",
        "\n",
        "\n",
        "def add_arc(graph, arc):\n",
        "    \"\"\"Dodaje nowy łuk (parę wierzchołków) do istniejącego grafu\n",
        "       rozważamy grafy proste, skierowane\n",
        "    \"\"\"\n",
        "    u, v = arc\n",
        "    add_vertex(graph, u)\n",
        "    add_vertex(graph, v)\n",
        "    if v not in graph[u]:\n",
        "        graph[u].append(v)\n",
        "\n",
        "\n",
        "def add_edge(graph, edge):\n",
        "    \"\"\"Dodaje nową krawędź (parę wierzchołków) do istniejącego grafu\n",
        "       traktując graf nieskierowany prosty jako prosty graf skierowany, ale symetryczny i bez pętli\n",
        "    \"\"\"\n",
        "    u, v = edge\n",
        "    add_vertex(graph, u)\n",
        "    add_vertex(graph, v)\n",
        "    if u == v:\n",
        "        raise ValueError(\"pętla!\")\n",
        "    if v not in graph[u]:\n",
        "        graph[u].append(v)\n",
        "    if u not in graph[v]:\n",
        "        graph[v].append(u)"
      ]
    },
    {
      "cell_type": "markdown",
      "source": [
        "# Praca domowa nr 1"
      ],
      "metadata": {
        "id": "4W0ff76h8uDQ"
      }
    },
    {
      "cell_type": "code",
      "source": [
        "def random_graph(n,p):\n",
        "  if 0<=p and p<=1:\n",
        "    random_graph={}\n",
        "    for i in range(1,n+1):\n",
        "      add_vertex(random_graph, i)\n",
        "      for j in range(1,i):\n",
        "        if random() < p:\n",
        "          add_edge(random_graph, [i,j])\n",
        "  else:\n",
        "    raise ValueError(\"To jest graf losowy\")\n",
        "  return random_graph\n",
        "\n",
        "def graph_to_matrix(graph):\n",
        "  n=len(graph)\n",
        "  macierz_sasiedztwa=np.zeros((n,n)) #to jest macierz zerowa n x n\n",
        "  wiersz = 0\n",
        "  for i in graph: #to przechodzi po każdym wierzchołu\n",
        "    for j in graph.get(i):#bierze liste sąsiadów tego grafu\n",
        "     macierz_sasiedztwa[wiersz][j-1] += 1\n",
        "    wiersz +=1\n",
        "  return macierz_sasiedztwa\n",
        "\n",
        "def matrix_to_graph(wektor,macierz):\n",
        "  n=len(wektor)\n",
        "  graph={}\n",
        "  if (n == len(macierz)) and (wektor is not None):\n",
        "    for i in range(0,n):\n",
        "      add_vertex(graph,wektor[i])\n",
        "    for i in range(0,n):\n",
        "      for j in range(1,n):\n",
        "        if macierz[i][j] == 1:\n",
        "          add_edge(graph,[wektor[i],wektor[j]])\n",
        "  else:\n",
        "    raise ValueError(\"Coś źle podałeś\")\n",
        "  print(graph)\n",
        "\n",
        "\n",
        "\"\"\"\n",
        "graph1 = random_graph(10, 1/3)\n",
        "macierz = graph_to_matrix(graph1)\n",
        "print_graph(graph1)\n",
        "print(\"-----------------\")\n",
        "print_matrix(None, macierz)\n",
        "\"\"\""
      ],
      "metadata": {
        "colab": {
          "base_uri": "https://localhost:8080/"
        },
        "id": "YmbvWChA8xVp",
        "outputId": "0c5a1e2a-8fde-4f73-8539-02afd29ea4bb"
      },
      "execution_count": 7,
      "outputs": [
        {
          "output_type": "stream",
          "name": "stdout",
          "text": [
            "1 :  3  7  9\n",
            "2 :  6\n",
            "3 :  1  7  9\n",
            "4 :  5  9\n",
            "5 :  4  9\n",
            "6 :  2\n",
            "7 :  1  3  10\n",
            "8 :\n",
            "9 :  1  3  4  5\n",
            "10 :  7\n",
            "-----------------\n",
            "1 :  3  7  9\n",
            "2 :  6\n",
            "3 :  1  7  9\n",
            "4 :  5  9\n",
            "5 :  4  9\n",
            "6 :  2\n",
            "7 :  1  3  10\n",
            "8 :\n",
            "9 :  1  3  4  5\n",
            "10 :  7\n"
          ]
        }
      ]
    },
    {
      "cell_type": "markdown",
      "source": [
        "# Wczytywanie (i zapis) grafów z plików"
      ],
      "metadata": {
        "id": "rF0vfvgn_VKA"
      }
    },
    {
      "cell_type": "code",
      "source": [
        "def graph_from_edges(filename, directed = 0):\n",
        "  \"\"\"\n",
        "  Wczytuje graf z pliku tekstowego, w któym w każdej linii jest opis jednej krawędzi (pary słów),\n",
        "  ewentualnie jednego wierzchołka (pojedyncze słowo). Jako wynik zwraca graf w formie listy sąsiedztwa.\n",
        "  Plik musi być w bierzącym katalogu lub filename zawiera całą ścieżkę do pliku\n",
        "  \"\"\"\n",
        "  graph = {}\n",
        "  file = open(filename, \"r\")  # otwarcie pliku do odczytu\n",
        "  for line in file:           # dla każdej liniii w pliku\n",
        "    words = line.split()      # dzielę linię na słowa (wg spacji)\n",
        "    if len(words) == 1:       # jedno słowo - wierzchołek\n",
        "      add_vertex(graph, words[0])\n",
        "    elif len(words) >= 2:     # więcej słów - używam dwóch pierwszych\n",
        "      if directed:\n",
        "        add_arc(graph, (words[0], words[1]))\n",
        "      else:\n",
        "        add_edge(graph, (words[0], words[1]))\n",
        "  file.close()\n",
        "  return graph"
      ],
      "metadata": {
        "id": "Duk-BKeu_coR"
      },
      "execution_count": 13,
      "outputs": []
    },
    {
      "cell_type": "code",
      "source": [
        "def graph_to_neigbourlist(graph, filename):\n",
        "  \"\"\"\n",
        "  Zapisuje graf jako listę sąsiedztwa do pliku tekstowego filename.\n",
        "  \"\"\"\n",
        "  file = open(filename, \"w\")  # otwarcie pliku do zapisu\n",
        "  for v in graph:\n",
        "    neigh_list = \"{}:\".format(v)  # buduję napis (przez format) - na razie 'v:'\n",
        "    for u in graph[v]:\n",
        "      neigh_list = neigh_list + \" {}\".format(u) # dołączamy ' u' na koniec napisu\n",
        "    neigh_list += '\\n'            # koniec wiersza\n",
        "    file.write(neigh_list)        # zapisujemy wiersz do pliku\n",
        "  file.close()"
      ],
      "metadata": {
        "id": "ISsMZzr7ESEX"
      },
      "execution_count": 17,
      "outputs": []
    },
    {
      "cell_type": "markdown",
      "source": [
        "# Kody Prüfera"
      ],
      "metadata": {
        "id": "dwSHg9ihHxPK"
      }
    },
    {
      "cell_type": "code",
      "source": [
        "from copy import deepcopy\n",
        "\n",
        "def Prufer(tree):\n",
        "  \"\"\"\n",
        "  Kod Prüfera dla drzewa - podany jako napis\n",
        "  \"\"\"\n",
        "  tr = deepcopy(tree)               # będziemy psuć drzewo\n",
        "  code = \"\"\n",
        "  for i in range(len(tree) - 2):\n",
        "    for x in sorted(tr):  # po kolei przeglądam wierzchołki - od najmniejszego\n",
        "      if len(tr[x]) == 1: # liść - pierszy - najmniejszy\n",
        "        break\n",
        "    v = tr[x][0]          # sąsiad najmniejszego liścia\n",
        "    code = code + \" {}\".format(v)\n",
        "    tr[v].remove(x)       # usuwam x z listy sąsiadów v\n",
        "    tr.pop(x)             # usuwam x z drzewa\n",
        "  return code\n",
        "\n",
        "\n",
        "def TreeFromPrufer(code):\n",
        "  \"\"\"\n",
        "  Tworzenie drzewa z kodu Prüfera - kod jest napisem długości n-2 (z liczb od 1 do n)\n",
        "  drzewo - grafem w formie lsity sąsiadów.\n",
        "  \"\"\"\n",
        "  clist = [int(x) for x in code.split()]  # kod zamieniony na listę liczb\n",
        "  n = len(clist) + 2                      # liczba wierzchołków\n",
        "  vert = [v for v in range(1, n+1)]       # lista wszystkich wierzchołków drzewa - 1..n\n",
        "  tree = {}\n",
        "  for v in vert:\n",
        "    add_vertex(tree, v)\n",
        "  for i in range(n-2):\n",
        "    for x in vert:\n",
        "      if x not in clist:  # x - najmniejszy liść (na tym etapie)\n",
        "        break\n",
        "    v = clist.pop(0)  # pierwszy element listy/kodu\n",
        "    add_edge(tree, (x, v))\n",
        "    vert.remove(x)\n",
        "  add_edge(tree, (vert[0], vert[1]))\n",
        "  return tree"
      ],
      "metadata": {
        "id": "4M3hSwdFH_c_"
      },
      "execution_count": 28,
      "outputs": []
    },
    {
      "cell_type": "markdown",
      "metadata": {
        "id": "OiI7teFOAmQq"
      },
      "source": [
        "# Wykorzystanie kodu (1)"
      ]
    },
    {
      "cell_type": "markdown",
      "metadata": {
        "id": "SJtM0hXOA4LW"
      },
      "source": [
        "### Pierwszy przykładowy graf."
      ]
    },
    {
      "cell_type": "code",
      "execution_count": null,
      "metadata": {
        "colab": {
          "base_uri": "https://localhost:8080/"
        },
        "id": "l1XjJYFyAoZ4",
        "outputId": "42b09659-b1ab-4d20-9622-4d617f5ff1ca"
      },
      "outputs": [
        {
          "name": "stdout",
          "output_type": "stream",
          "text": [
            "['a', 'b', 'c', 'd', 'e', 'f']\n",
            "[[0 1 1 0 0 0]\n",
            " [1 0 1 0 0 0]\n",
            " [1 1 0 1 1 0]\n",
            " [0 0 1 0 1 0]\n",
            " [0 0 1 1 0 0]\n",
            " [0 0 0 0 0 0]]\n",
            "-------------------\n",
            "a :  b  c\n",
            "b :  a  c\n",
            "c :  a  b  d  e\n",
            "d :  c  e\n",
            "e :  c  d\n",
            "f :\n",
            "-------------------\n",
            "1 :  2  3\n",
            "2 :  1  3\n",
            "3 :  1  2  4  5\n",
            "4 :  3  5\n",
            "5 :  3  4\n",
            "6 :\n"
          ]
        }
      ],
      "source": [
        "vertices = [\"a\", \"b\", \"c\", \"d\", \"e\", \"f\"]\n",
        "matrix = np.array([[0,1,1,0,0,0],[1,0,1,0,0,0],[1,1,0,1,1,0],[0,0,1,0,1,0],[0,0,1,1,0,0],[0,0,0,0,0,0]])\n",
        "print(vertices)\n",
        "print(matrix)\n",
        "print(\"-------------------\")\n",
        "print_matrix(vertices, matrix)\n",
        "print(\"-------------------\")\n",
        "print_matrix(None, matrix)"
      ]
    },
    {
      "cell_type": "markdown",
      "metadata": {
        "id": "OxV6E9czC6GZ"
      },
      "source": [
        "### Druga reprezentacja"
      ]
    },
    {
      "cell_type": "code",
      "execution_count": null,
      "metadata": {
        "colab": {
          "base_uri": "https://localhost:8080/"
        },
        "id": "zf__eJcuC7wb",
        "outputId": "6eb406c1-522d-4af7-8d08-cb6ecd56c07a"
      },
      "outputs": [
        {
          "name": "stdout",
          "output_type": "stream",
          "text": [
            "{'a': ['b', 'c'], 'b': ['a', 'c'], 'c': ['a', 'b', 'd', 'e'], 'd': ['c', 'e'], 'e': ['c', 'd'], 'f': []}\n",
            "-------------------\n",
            "a :  b  c\n",
            "b :  a  c\n",
            "c :  a  b  d  e\n",
            "d :  c  e\n",
            "e :  c  d\n",
            "f :\n"
          ]
        }
      ],
      "source": [
        "graph = {\n",
        "  'a' : ['b', 'c'],\n",
        "  'b' : ['a', 'c'],\n",
        "  'c' : ['a', 'b', 'd', 'e'],\n",
        "  'd' : ['c', 'e'],\n",
        "  'e' : ['c', 'd'],\n",
        "  'f' : []\n",
        "}\n",
        "print(graph)\n",
        "print(\"-------------------\")\n",
        "print_graph(graph)"
      ]
    },
    {
      "cell_type": "markdown",
      "metadata": {
        "id": "XY_S7KX6IMHE"
      },
      "source": [
        "### Modyfikacje grafów"
      ]
    },
    {
      "cell_type": "code",
      "execution_count": null,
      "metadata": {
        "colab": {
          "base_uri": "https://localhost:8080/"
        },
        "id": "OJ_KKqODIOqq",
        "outputId": "d3cc08e4-eb1b-4245-b7d0-3a10f63c947d"
      },
      "outputs": [
        {
          "name": "stdout",
          "output_type": "stream",
          "text": [
            "a :  b  c  g  h\n",
            "b :  a  c\n",
            "c :  a  b  d  e\n",
            "d :  c  e  h\n",
            "e :  c  d\n",
            "f :\n",
            "g :  a\n",
            "h :  a  d  h\n"
          ]
        }
      ],
      "source": [
        "add_vertex(graph, \"g\")\n",
        "add_arc(graph, ['a', 'g'])\n",
        "add_arc(graph, ['g', 'a'])\n",
        "add_edge(graph, ['a', 'h'])\n",
        "add_edge(graph, ['h', 'd'])\n",
        "#błąd add_edge(graph, ['h', 'h'])\n",
        "add_arc(graph, ['h', 'h'])\n",
        "print_graph(graph)\n"
      ]
    },
    {
      "cell_type": "markdown",
      "metadata": {
        "id": "dCFK0RtBJsnU"
      },
      "source": [
        "### Tworzenie grafów losowych $ G(n, p) $"
      ]
    },
    {
      "cell_type": "code",
      "execution_count": null,
      "metadata": {
        "id": "G4W45LT5JsEo"
      },
      "outputs": [],
      "source": [
        "# dla powtarzalności wyników\n",
        "seed(2021)"
      ]
    },
    {
      "cell_type": "code",
      "execution_count": null,
      "metadata": {
        "colab": {
          "base_uri": "https://localhost:8080/"
        },
        "id": "aHlSB95XJ8Bp",
        "outputId": "82dedcaa-662a-44ca-b022-fafb2c5eed5a"
      },
      "outputs": [
        {
          "name": "stdout",
          "output_type": "stream",
          "text": [
            "1 :  4  9  10\n",
            "2 :  5  6  7  9  10\n",
            "3 :  5\n",
            "4 :  1  8\n",
            "5 :  2  3  7  9  10\n",
            "6 :  2  10\n",
            "7 :  2  5\n",
            "8 :  4  9\n",
            "9 :  1  2  5  8\n",
            "10 :  1  2  5  6\n"
          ]
        }
      ],
      "source": [
        "#losuję graf G(10, 1/3)\n",
        "n = 10\n",
        "p = 1/3\n",
        "random_graph = {}\n",
        "for i in range(1, n+1):\n",
        "  add_vertex(random_graph, i)\n",
        "  for j in range(1, i):\n",
        "    if random() < p:\n",
        "      add_edge(random_graph, [i, j])\n",
        "\n",
        "print_graph(random_graph)"
      ]
    },
    {
      "cell_type": "markdown",
      "source": [
        "# Wykorzystanie kodu (2)"
      ],
      "metadata": {
        "id": "MSwO0rTvBR8-"
      }
    },
    {
      "cell_type": "code",
      "source": [
        "%ls"
      ],
      "metadata": {
        "colab": {
          "base_uri": "https://localhost:8080/"
        },
        "id": "s7LQZJ2iBVkh",
        "outputId": "931c8696-d5df-4c4c-af86-5cda85759e44"
      },
      "execution_count": 10,
      "outputs": [
        {
          "output_type": "stream",
          "name": "stdout",
          "text": [
            "lista.txt  \u001b[0m\u001b[01;34msample_data\u001b[0m/\n"
          ]
        }
      ]
    },
    {
      "cell_type": "code",
      "source": [
        "%%writefile lista.txt\n",
        "1\n",
        "2 3\n",
        "2 4\n",
        "2 5\n",
        "3 5\n",
        "6\n",
        "1 2"
      ],
      "metadata": {
        "colab": {
          "base_uri": "https://localhost:8080/"
        },
        "id": "jOk89DF2BybH",
        "outputId": "9fbfd9c3-353b-4c37-c593-c706a95b82dc"
      },
      "execution_count": 9,
      "outputs": [
        {
          "output_type": "stream",
          "name": "stdout",
          "text": [
            "Writing lista.txt\n"
          ]
        }
      ]
    },
    {
      "cell_type": "code",
      "source": [
        "%cat lista.txt"
      ],
      "metadata": {
        "colab": {
          "base_uri": "https://localhost:8080/"
        },
        "id": "ZWHIZpcRCCQL",
        "outputId": "4179655b-9094-4642-f784-132a88d707a8"
      },
      "execution_count": 11,
      "outputs": [
        {
          "output_type": "stream",
          "name": "stdout",
          "text": [
            "1\n",
            "2 3\n",
            "2 4\n",
            "2 5\n",
            "3 5\n",
            "6\n",
            "1 2\n"
          ]
        }
      ]
    },
    {
      "cell_type": "code",
      "source": [
        "graph2 = graph_from_edges(\"lista.txt\", 0)\n",
        "print_graph(graph2)"
      ],
      "metadata": {
        "colab": {
          "base_uri": "https://localhost:8080/"
        },
        "id": "zY6WqnG8COf5",
        "outputId": "ee58bd78-5b45-4b26-aeb0-afbdcca5298d"
      },
      "execution_count": 14,
      "outputs": [
        {
          "output_type": "stream",
          "name": "stdout",
          "text": [
            "1 :  2\n",
            "2 :  3  4  5  1\n",
            "3 :  2  5\n",
            "4 :  2\n",
            "5 :  2  3\n",
            "6 :\n"
          ]
        }
      ]
    },
    {
      "cell_type": "code",
      "source": [
        "graph3 = graph_from_edges(\"ubranie.txt\", directed=1)\n",
        "print_graph(graph3)"
      ],
      "metadata": {
        "colab": {
          "base_uri": "https://localhost:8080/"
        },
        "id": "rbyLPs8fDBMA",
        "outputId": "02ec8f9e-8620-4eea-b6fa-e7aa1ff9327c"
      },
      "execution_count": 15,
      "outputs": [
        {
          "output_type": "stream",
          "name": "stdout",
          "text": [
            "slipki :  kalesony\n",
            "kalesony :  spodnie\n",
            "spodnie :  buty  szelki\n",
            "buty :\n",
            "szelki :  marynarka\n",
            "skarpety :  buty\n",
            "koszula :  szelki  marynarka  krawat\n",
            "marynarka :  plaszcz\n",
            "krawat :  marynarka\n",
            "plaszcz :\n"
          ]
        }
      ]
    },
    {
      "cell_type": "code",
      "source": [
        "graph_to_neigbourlist(graph2, \"graf_l.txt\")\n",
        "graph_to_neigbourlist(graph3, \"ubranie_l.txt\")\n",
        "%cat \"graf_l.txt\"\n",
        "print(\"--------------------\")\n",
        "%cat \"ubranie_l.txt\""
      ],
      "metadata": {
        "colab": {
          "base_uri": "https://localhost:8080/"
        },
        "id": "X-9RhNv4GDCC",
        "outputId": "052c18d1-bb85-420d-e748-c399a7d49e7b"
      },
      "execution_count": 18,
      "outputs": [
        {
          "output_type": "stream",
          "name": "stdout",
          "text": [
            "1: 2\n",
            "2: 3 4 5 1\n",
            "3: 2 5\n",
            "4: 2\n",
            "5: 2 3\n",
            "6:\n",
            "--------------------\n",
            "slipki: kalesony\n",
            "kalesony: spodnie\n",
            "spodnie: buty szelki\n",
            "buty:\n",
            "szelki: marynarka\n",
            "skarpety: buty\n",
            "koszula: szelki marynarka krawat\n",
            "marynarka: plaszcz\n",
            "krawat: marynarka\n",
            "plaszcz:\n"
          ]
        }
      ]
    },
    {
      "cell_type": "code",
      "source": [
        "%%writefile drzewo1.txt\n",
        "1\n",
        "2 3\n",
        "2 4\n",
        "2 5\n",
        "5 6\n",
        "1 2"
      ],
      "metadata": {
        "colab": {
          "base_uri": "https://localhost:8080/"
        },
        "id": "odJZtDkrKN2S",
        "outputId": "f7662589-c9df-45d3-acd4-3882d2bf8613"
      },
      "execution_count": 19,
      "outputs": [
        {
          "output_type": "stream",
          "name": "stdout",
          "text": [
            "Writing drzewo1.txt\n"
          ]
        }
      ]
    },
    {
      "cell_type": "code",
      "source": [
        "drzewo1 = graph_from_edges(\"drzewo1.txt\", 0)\n",
        "print_graph(drzewo1)\n",
        "print(Prufer(drzewo1))\n",
        "print_graph(drzewo1)\n",
        "print(\"----------------\")\n",
        "print_graph(TreeFromPrufer(\"2 2 2 5\"))\n",
        "print(\"----------------\")\n",
        "print_graph(TreeFromPrufer(\"2 2 2 2 2 2 2 2\"))\n",
        "print(\"----------------\")\n",
        "print_graph(TreeFromPrufer(\"2 3 4 5 6 7 8 9\"))\n",
        "\n"
      ],
      "metadata": {
        "colab": {
          "base_uri": "https://localhost:8080/"
        },
        "id": "ArQfvgZyKWhJ",
        "outputId": "8101ec19-20de-4fcd-c53d-8863e0cace80"
      },
      "execution_count": 31,
      "outputs": [
        {
          "output_type": "stream",
          "name": "stdout",
          "text": [
            "1 :  2\n",
            "2 :  3  4  5  1\n",
            "3 :  2\n",
            "4 :  2\n",
            "5 :  2  6\n",
            "6 :  5\n",
            " 2 2 2 5\n",
            "1 :  2\n",
            "2 :  3  4  5  1\n",
            "3 :  2\n",
            "4 :  2\n",
            "5 :  2  6\n",
            "6 :  5\n",
            "----------------\n",
            "1 :  2\n",
            "2 :  1  3  4  5\n",
            "3 :  2\n",
            "4 :  2\n",
            "5 :  2  6\n",
            "6 :  5\n",
            "----------------\n",
            "1 :  2\n",
            "2 :  1  3  4  5  6  7  8  9  10\n",
            "3 :  2\n",
            "4 :  2\n",
            "5 :  2\n",
            "6 :  2\n",
            "7 :  2\n",
            "8 :  2\n",
            "9 :  2\n",
            "10 :  2\n",
            "----------------\n",
            "1 :  2\n",
            "2 :  1  3\n",
            "3 :  2  4\n",
            "4 :  3  5\n",
            "5 :  4  6\n",
            "6 :  5  7\n",
            "7 :  6  8\n",
            "8 :  7  9\n",
            "9 :  8  10\n",
            "10 :  9\n"
          ]
        }
      ]
    }
  ],
  "metadata": {
    "colab": {
      "collapsed_sections": [
        "4W0ff76h8uDQ",
        "OiI7teFOAmQq",
        "SJtM0hXOA4LW",
        "OxV6E9czC6GZ",
        "XY_S7KX6IMHE",
        "dCFK0RtBJsnU"
      ],
      "provenance": [],
      "include_colab_link": true
    },
    "kernelspec": {
      "display_name": "Python 3 (ipykernel)",
      "language": "python",
      "name": "python3"
    },
    "language_info": {
      "codemirror_mode": {
        "name": "ipython",
        "version": 3
      },
      "file_extension": ".py",
      "mimetype": "text/x-python",
      "name": "python",
      "nbconvert_exporter": "python",
      "pygments_lexer": "ipython3",
      "version": "3.9.2"
    }
  },
  "nbformat": 4,
  "nbformat_minor": 0
}