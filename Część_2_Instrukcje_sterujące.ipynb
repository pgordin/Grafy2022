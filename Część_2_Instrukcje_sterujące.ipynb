{
  "cells": [
    {
      "cell_type": "markdown",
      "metadata": {
        "id": "view-in-github",
        "colab_type": "text"
      },
      "source": [
        "<a href=\"https://colab.research.google.com/github/pgordin/Grafy2022/blob/main/Cz%C4%99%C5%9B%C4%87_3_Instrukcje_steruj%C4%85ce.ipynb\" target=\"_parent\"><img src=\"https://colab.research.google.com/assets/colab-badge.svg\" alt=\"Open In Colab\"/></a>"
      ]
    },
    {
      "cell_type": "markdown",
      "metadata": {
        "id": "mnyCl9YycqsZ"
      },
      "source": [
        "# Python - Wprowadzenie do programowania cz 2\n",
        "\n",
        "W tej części poznamy podstawę języka Python. Instrukcje sterujące. Specjalne komendy w języku Python pozwalające decydowanie kiedy, ile razy, w jakiej kolejności i jakie instrukcje mają się wykonać."
      ]
    },
    {
      "cell_type": "markdown",
      "metadata": {
        "id": "ssPx7oeAcqsb"
      },
      "source": [
        "# Komendy sterujące \n",
        "\n",
        "## Bloki kodu\n",
        "\n",
        "Wspominane było, że linie kodu nie mogą być poprzedzone znakiem spacji czy tabulatora. Wyjaśnimy czemu do tej pory tak musiało być. Powodem są bloki kodu\n",
        "\n",
        "Blokiem kodu nazywamy ciągi instrukcji posiadających własną przestrzeń nazw (dodatkową) wyszczególnioną w specjalny sposób.\n",
        "\n",
        "Bloki kodu są np. wykonywane w instrukcjach warunkowych czy pętlach. W javie czy c++ np.\n",
        "```cpp\n",
        "if (warunek) {\n",
        "   \\\\Blok instrukcji\n",
        "   czynnosc1();\n",
        "   czynnosc2();\n",
        "}\n",
        "```\n",
        "Najcześciej spotykane w programowaniu jest grupowanie bloków z wykorzystaniem nawiasów klamrowych. Oprócz tego wszyscy programiści zalecali robienie wcięć dla instrukcji w bloku - aby wyszczególnić jednakowe przestrzenie nazw i odróżniać instrukcje warunkowe od ogólnych, powtarzane od jednokrotnych.\n",
        "\n",
        "Twórcy Pythona dostrzegli w tym nadmiarowość formy. Zdecydowali się odrzucić klamry. W ten sposób bloki kodu określane są na podstawie **wcięć kodu**.\n",
        "\n",
        "Jak wygląda praca z tymi wcięciami przekonamy się już za chwilę:\n",
        "\n",
        "Miejsca gdzie występują bloki kodu:\n",
        "* Instrukcje warunkowe\n",
        "* Pętle\n",
        "* Funkcje\n",
        "* Implementacje klas\n",
        "* Bloki with\n",
        "\n"
      ]
    },
    {
      "cell_type": "markdown",
      "metadata": {
        "id": "C99WxV3Lcqsd"
      },
      "source": [
        "## Instrukcja warunkowa IF\n",
        "\n",
        "Podstawową instrukcją warunkową w Pythonie jest if-elif-else. Podobnie jak w innych technologiach programistycznych, bloki elif i else można pomijać. Ogólna postać takiej instrukcji wygląda następująco:\n",
        "```python\n",
        "if warunek1:\n",
        "    #czynnosc1\n",
        "elif warunek2:\n",
        "    #czynnosc2\n",
        "else:\n",
        "    #czynnosc3\n",
        "```\n",
        "Np:\n"
      ]
    },
    {
      "cell_type": "code",
      "execution_count": null,
      "metadata": {
        "colab": {
          "base_uri": "https://localhost:8080/"
        },
        "id": "XrO4VA0Icqse",
        "outputId": "3c8e4f35-a020-4d24-8ec8-23aa3ad1790c"
      },
      "outputs": [
        {
          "output_type": "stream",
          "name": "stdout",
          "text": [
            "X jest liczbą parzystą\n",
            "Tu blok już się zakończył i wykonuje się on niezależnie od wartości sprawdzanego warunku\n"
          ]
        }
      ],
      "source": [
        "x = 6\n",
        "if x % 2 == 1:\n",
        "    print('X jest liczbą nieparzystą')\n",
        "else:\n",
        "    print('X jest liczbą parzystą')\n",
        "print('Tu blok już się zakończył i wykonuje się on niezależnie od wartości sprawdzanego warunku')"
      ]
    },
    {
      "cell_type": "markdown",
      "metadata": {
        "id": "6jyiJvMXcqse"
      },
      "source": [
        "* Instrukcja warunkowa musi mieć blok if\n",
        "* Instrukcja może mieć najwyżej jeden blok else,\n",
        "* Instrukcja może mieć dowolną ilość bloków elif\n",
        "* Koniec wcięcia oznacza koniec bloku,\n",
        "* Linijka początkowa bloku musi kończyć się znakiem :"
      ]
    },
    {
      "cell_type": "markdown",
      "metadata": {
        "id": "ChSzwnuwcqsf"
      },
      "source": [
        "## IF połączone z IN\n",
        "\n",
        "Z instrukcją if możemy łatwo sprawdzać czy element występuje we wskazanej a wcześniej poznanej kolekcji. Np. czy ciąg znaków zawiera daną literę:\n"
      ]
    },
    {
      "cell_type": "code",
      "execution_count": null,
      "metadata": {
        "id": "oQIKhwifcqsf",
        "outputId": "2da6f8ea-1941-4428-f504-cf21c582d3a7"
      },
      "outputs": [
        {
          "name": "stdout",
          "output_type": "stream",
          "text": [
            "Zdanie ma literke k\n",
            "Zdanie ma kota!\n"
          ]
        }
      ],
      "source": [
        "zdanie = \"Ala ma kota!\"\n",
        "if \"k\" in zdanie:\n",
        "    print(\"Zdanie ma literke k\")\n",
        "if \"kot\" in zdanie:\n",
        "    print(\"Zdanie ma kota!\")"
      ]
    },
    {
      "cell_type": "markdown",
      "metadata": {
        "id": "EHgpujQwcqsg"
      },
      "source": [
        "## Pętle For\n",
        "\n",
        "Język Python wspiera również wykonywanie powtarzalnych obliczeń z wykorzystaniem konstrukcji pętli. Najczęściej do realizacji powtórzeń w Pythonie stosowana jest pętla for \n",
        "\n",
        "* wykorzystująca kolekcje:\n",
        "for element in lista:\n",
        "    #blok instrukcji\n",
        "* wykorzystująca licznik:\n",
        "for i in range(begin,end,step):\n",
        "    #blok instrukcji\n"
      ]
    },
    {
      "cell_type": "code",
      "execution_count": null,
      "metadata": {
        "colab": {
          "base_uri": "https://localhost:8080/"
        },
        "id": "oEsp_HZHcqsg",
        "outputId": "917aa272-bcfc-4148-a4d3-4c387312e2dd"
      },
      "outputs": [
        {
          "output_type": "stream",
          "name": "stdout",
          "text": [
            "Teraz kolej na raz\n",
            "Teraz kolej na dwa\n",
            "Teraz kolej na trzy\n",
            "Kolejna liczba to  0\n",
            "Kolejna liczba to  2\n",
            "Kolejna liczba to  4\n",
            "Kolejna liczba to  6\n",
            "Kolejna liczba to  8\n",
            "A\n",
            "l\n",
            "a\n",
            " \n",
            "m\n",
            "a\n",
            " \n",
            "k\n",
            "o\n",
            "t\n",
            "a\n",
            ".\n"
          ]
        }
      ],
      "source": [
        "lista = ['raz', 'dwa', 'trzy']\n",
        "for element in lista:\n",
        "    print('Teraz kolej na', element)\n",
        "\n",
        "for i in range(0,10,2):\n",
        "    print('Kolejna liczba to ',i)\n",
        "\n",
        "for z in \"Ala ma kota.\":\n",
        "  print(z)"
      ]
    },
    {
      "cell_type": "markdown",
      "metadata": {
        "id": "_SRcJfKlcqsh"
      },
      "source": [
        "## Pętle while\n",
        "\n",
        "Czasem spotykamy również inny rodzaj pętli - pętle while\n",
        "\n",
        "```python\n",
        "while warunek:\n",
        "    #blok kodu\n",
        "```"
      ]
    },
    {
      "cell_type": "code",
      "execution_count": null,
      "metadata": {
        "id": "RbWDHQVjcqsh",
        "outputId": "c8fe6613-1dc0-4f34-f4dd-2b067b74ff4d"
      },
      "outputs": [
        {
          "name": "stdout",
          "output_type": "stream",
          "text": [
            "Obecna wartosc to  1\n",
            "Obecna wartosc to  2\n",
            "Obecna wartosc to  3\n",
            "Obecna wartosc to  4\n",
            "Obecna wartosc to  5\n",
            "Obecna wartosc to  6\n",
            "Obecna wartosc to  7\n",
            "Obecna wartosc to  8\n",
            "Obecna wartosc to  9\n",
            "Obecna wartosc to  10\n",
            "Obecna wartosc to  11\n"
          ]
        }
      ],
      "source": [
        "i = 0\n",
        "while i <= 10:\n",
        "    i += 1\n",
        "    print('Obecna wartosc to ', i)"
      ]
    },
    {
      "cell_type": "markdown",
      "metadata": {
        "id": "VxKSaJq3cqsi"
      },
      "source": [
        "Najczęściej jest ona wykorzystywana razem z komendami *break* i *continue*. Można też użyć *else*.\n",
        "\n",
        "* *break* - powoduje przerwanie działania petli i opuszczenie jej całkowicie\n",
        "* *continue* - powoduje natychmiastowe przejście do wykonywania następnej petli\n",
        "* *else* - wykonuje się na koniec przebiegu pętli, jeśli nie została przerwana przez *break*\n"
      ]
    },
    {
      "cell_type": "code",
      "execution_count": null,
      "metadata": {
        "id": "LAcSgSSlcqsi",
        "outputId": "13f7e4e6-a1d7-4813-8827-8445fc787d0d"
      },
      "outputs": [
        {
          "name": "stdout",
          "output_type": "stream",
          "text": [
            "Przetwarzam  1\n",
            "Przetwarzam  2\n",
            "Przetwarzam  3\n",
            "Przetwarzam  4\n",
            "Przetwarzam  5\n",
            "Przetwarzam  6\n",
            "Przetwarzam  8\n",
            "Przetwarzam  9\n",
            "Przetwarzam  10\n",
            "Przetwarzam  11\n",
            "Przetwarzam  12\n",
            "Przetwarzam  13\n"
          ]
        }
      ],
      "source": [
        "i = 0\n",
        "while True:\n",
        "    i += 1\n",
        "    if (i % 7 == 0): \n",
        "        continue\n",
        "    if (i >= 15):\n",
        "        break\n",
        "    print('Przetwarzam ', i)"
      ]
    },
    {
      "cell_type": "markdown",
      "source": [
        "### Dygresja: problem Collatza.\n",
        "\n",
        "Sprawdzić, czy ciąg $a_0 = x$, $a_{i+1} = f(a_i)$, gdzie $$ f(n) = \\left\\{ \n",
        "\\begin{array}{ll}\n",
        "\\frac{n}{2} & \n",
        "\\textrm{ gdy } n \\textrm{ parzyste} \\\\\n",
        "\\frac{3n+1}{2} &  \\textrm{ gdy } n \\textrm{ nieparzyste} \\\\\n",
        "\\end{array}\n",
        "\\right.\n",
        "$$\n",
        "\n",
        "zawiera wartość 1."
      ],
      "metadata": {
        "id": "_Iph_iuVgA8B"
      }
    },
    {
      "cell_type": "code",
      "source": [
        "x = 1230\n",
        "n = 60  # maksymalna liczba iteracji\n",
        "for i in range(n):\n",
        "  print(x)\n",
        "  if x % 2 == 0:\n",
        "    x = x // 2\n",
        "  elif x == 1:\n",
        "    print(\"Jedynka w\", i, \"tym kroku.\")\n",
        "    break\n",
        "  else:\n",
        "    x = ((3 * x) + 1) // 2\n",
        "else:\n",
        "  print(\"Nie udało się!\")"
      ],
      "metadata": {
        "colab": {
          "base_uri": "https://localhost:8080/"
        },
        "id": "_Q0qqTNPfNmw",
        "outputId": "59a70c01-b0c9-4385-f278-2a0aee7ebd76"
      },
      "execution_count": 3,
      "outputs": [
        {
          "output_type": "stream",
          "name": "stdout",
          "text": [
            "1230\n",
            "615\n",
            "923\n",
            "1385\n",
            "2078\n",
            "1039\n",
            "1559\n",
            "2339\n",
            "3509\n",
            "5264\n",
            "2632\n",
            "1316\n",
            "658\n",
            "329\n",
            "494\n",
            "247\n",
            "371\n",
            "557\n",
            "836\n",
            "418\n",
            "209\n",
            "314\n",
            "157\n",
            "236\n",
            "118\n",
            "59\n",
            "89\n",
            "134\n",
            "67\n",
            "101\n",
            "152\n",
            "76\n",
            "38\n",
            "19\n",
            "29\n",
            "44\n",
            "22\n",
            "11\n",
            "17\n",
            "26\n",
            "13\n",
            "20\n",
            "10\n",
            "5\n",
            "8\n",
            "4\n",
            "2\n",
            "1\n",
            "Jedynka w 47 tym kroku.\n"
          ]
        }
      ]
    },
    {
      "cell_type": "markdown",
      "metadata": {
        "id": "-Ut0Ya_Vcqsj"
      },
      "source": [
        "# Operatory\n",
        "\n",
        "W Pythonie najprostszymi funkcjami są operatory. Czyli akcje wykonywane przez Python w odpowiedzi na znaki +,- oraz podobne. W Pythonie istnieją następujące grupy operatorów\n",
        "\n",
        "* arytmetryczne,\n",
        "* relacyjne (porównawcze),\n",
        "* logiczne,\n",
        "* bitowe,\n",
        "* przypisania,\n",
        "* identycznościowe,\n",
        "* przynależności.\n",
        "\n",
        "## Operatory arytmetyczne \n",
        "\n",
        "Do operatorów (które poznaliśmy w dużej mierze poprzednio) zaliczamy \n",
        "\n",
        "* dodawanie '+'\n",
        "* odejmowanie '-'\n",
        "* mnożenie '*'\n",
        "* dzielenie '/'\n",
        "* dzielenie modulo '%'\n",
        "* potęgę '**'\n",
        "* dzielenie całkowitoliczbowe '//'\n"
      ]
    },
    {
      "cell_type": "markdown",
      "metadata": {
        "id": "2ekTUmdlcqsj"
      },
      "source": [
        "## Operatory relacyjne\n",
        "\n",
        "Wśród operatorów relacyjnych wyróżniamy\n",
        "\n",
        "* równość '=='\n",
        "* nierówność '!='\n",
        "* mniejsze oraz większe ('<' i '>')\n",
        "* mniejsze lub równe oraz większe lub równe ('<=' i '>=')\n"
      ]
    },
    {
      "cell_type": "code",
      "execution_count": null,
      "metadata": {
        "id": "63DXnBJkcqsk",
        "outputId": "1fbc9ed5-7020-4659-f81e-6729c2eb0ec1"
      },
      "outputs": [
        {
          "name": "stdout",
          "output_type": "stream",
          "text": [
            "3 jest mniejsze od 5\n"
          ]
        }
      ],
      "source": [
        "if 3 < 5:\n",
        "    print('3 jest mniejsze od 5')"
      ]
    },
    {
      "cell_type": "markdown",
      "metadata": {
        "id": "csnOs77Zcqsk"
      },
      "source": [
        "Co ciekawe dopuszczalne są również (a niedostępne w innych językach programowania) następujące ciągi relacji"
      ]
    },
    {
      "cell_type": "code",
      "execution_count": null,
      "metadata": {
        "id": "NATxGsNicqsl",
        "outputId": "c2934868-252a-4ff6-883c-a23bd97d881b"
      },
      "outputs": [
        {
          "name": "stdout",
          "output_type": "stream",
          "text": [
            "Liczba ta należy do przedziału (3,5]\n"
          ]
        }
      ],
      "source": [
        "liczba = 4\n",
        "if 3 < liczba <= 5:\n",
        "    print('Liczba ta należy do przedziału (3,5]')"
      ]
    },
    {
      "cell_type": "markdown",
      "metadata": {
        "id": "87KsrDBhcqsl"
      },
      "source": [
        "## Operatory logiczne\n",
        "\n",
        "Specjalna grupa operatorów jest zarezerwowana dla typów logicznych. Wyszczególniamy\n",
        "\n",
        "* logiczne i 'and',\n",
        "* logiczne lub 'or',\n",
        "* logiczne nie 'not'."
      ]
    },
    {
      "cell_type": "code",
      "execution_count": null,
      "metadata": {
        "id": "kQ9xYJGacqsl",
        "outputId": "f83da41e-ebeb-48b7-815f-dc5160532f1f"
      },
      "outputs": [
        {
          "name": "stdout",
          "output_type": "stream",
          "text": [
            "Liczba nie jest podzielna przez 3 oraz 2\n"
          ]
        }
      ],
      "source": [
        "liczba = 14\n",
        "if liczba % 3 == 0 and liczba % 2 ==0 :\n",
        "    print('Liczba jest podzielna przez 3 oraz 2')\n",
        "else :\n",
        "    print('Liczba nie jest podzielna przez 3 oraz 2')"
      ]
    },
    {
      "cell_type": "markdown",
      "metadata": {
        "id": "XHdZPb9Vcqsl"
      },
      "source": [
        "## Operatory bitowe\n",
        "\n",
        "Operatory bitowe są stosowane do pracy na bitowych reprezentacjach dla danych. Dla operatorów tych nie jest istotne jaki typ danych przekształcają gdyż zawsze pracują na ich bitowym zapisie.\n",
        "\n",
        "Operatorami takimi są \n",
        "\n",
        "* Bitowe i '&' - gdzie dany bit zostaje ustalony na 1 tylko jeśli oba operandy miały 1 na tym bicie\n",
        "* Bitowe lub '|' - gdzie dany bit zostaje ustalony na 1 tylko jeśli dowolny operand miał 1 na tym bicie\n",
        "* Bitowe xor '^' - gdzie dany bit zostaje ustalony na 1 tylko jeśli dokładnie jeden operand miał 1 na tym bicie\n",
        "* Bitowe not '~' - gdzie dany bit zostaje ustalony na 1 tylko jeśli operand (jedyny operand) miał 0 na tym bicie\n",
        "* Bitowe przesunięcie w lewo '<<' - gdzie bity są przesuwane zgodnie w reprezentacji na miejsca bardziej po lewo, bity wysunięte poza zakres są tracone, a od lewej strony reprezentacja jest uzupełniana zerami\n",
        "* Bitowe przesunięcie w prawo '>>' - gdzie bity są przesuwane zgodnie w reprezentacji na miejsca bardziej po prawo, bity wysunięte poza zakres są tracone, a od lewej strony reprezentacja jest uzupełniana zerami"
      ]
    },
    {
      "cell_type": "code",
      "execution_count": null,
      "metadata": {
        "id": "gtL29xdqcqsl",
        "outputId": "4c841ee4-11c1-48d9-91d1-7e09a57d3ae3"
      },
      "outputs": [
        {
          "name": "stdout",
          "output_type": "stream",
          "text": [
            "x ma wartość 3 y ma wartość 14\n"
          ]
        }
      ],
      "source": [
        "x = 0b0011 #tak można zadawać liczby w postaci dwójkowej\n",
        "y = 0b1110\n",
        "print('x ma wartość', x, 'y ma wartość', y)"
      ]
    },
    {
      "cell_type": "code",
      "execution_count": null,
      "metadata": {
        "id": "xvdvxxFicqsl",
        "outputId": "97af431b-f79d-4bb0-c37a-6c4a817548d9"
      },
      "outputs": [
        {
          "name": "stdout",
          "output_type": "stream",
          "text": [
            "Wynik 0010\n"
          ]
        }
      ],
      "source": [
        "z = x & y\n",
        "print('Wynik {0:{fill}4b}'.format(z,fill='0'))"
      ]
    },
    {
      "cell_type": "markdown",
      "source": [
        "Przykład. Analiza gry Nim na stertach 5, 6 i 9. Pierwszy gracz ma strategię wygrywającą bo:"
      ],
      "metadata": {
        "id": "uD6Kkh09j8j5"
      }
    },
    {
      "cell_type": "code",
      "source": [
        "x = 5\n",
        "y = 6\n",
        "z = 9\n",
        "print(x ^ y ^ z) # to jest xor a nie potęgowanie"
      ],
      "metadata": {
        "colab": {
          "base_uri": "https://localhost:8080/"
        },
        "id": "SOcB4oS_jocS",
        "outputId": "acc1cf5f-f129-4cfc-aa07-085686ae0691"
      },
      "execution_count": null,
      "outputs": [
        {
          "output_type": "stream",
          "name": "stdout",
          "text": [
            "10\n"
          ]
        }
      ]
    },
    {
      "cell_type": "markdown",
      "metadata": {
        "id": "jAEr7u5Lcqsn"
      },
      "source": [
        "Zaprezentujemy jeszcze działanie przesuniecia"
      ]
    },
    {
      "cell_type": "code",
      "execution_count": null,
      "metadata": {
        "id": "gsNmyh0mcqsn",
        "outputId": "476f4d30-2c6c-4485-a9d4-0d59f9290719"
      },
      "outputs": [
        {
          "name": "stdout",
          "output_type": "stream",
          "text": [
            "Wynik 0110\n"
          ]
        }
      ],
      "source": [
        "print('Wynik {0:{fill}4b}'.format(x<<1,fill='0'))"
      ]
    },
    {
      "cell_type": "markdown",
      "metadata": {
        "id": "oxwG-2E0cqsn"
      },
      "source": [
        "## Operatory przypisania \n",
        "\n",
        "Kolejną grupą operatorów są operatory przypisania. Do grupy tej zaliczamy\n",
        "\n",
        "* operator '=',\n",
        "* operatory przypisania arytmetycznego '+=', '-=', '*=', '/=', '%=', '//=', '**=',\n",
        "* operatory przypisania logicznego '&=', '|=', '^=',\n",
        "* operatory przypisania przesuniętego, '<<=' i '>>='\n",
        "\n",
        "Pierwszy operator służy do przypisania wartości do zmiennej\n",
        "\n",
        "```python\n",
        "zmienna = wartosc\n",
        "```\n",
        "\n",
        "Przede wszystkim nie należy pomylić operatora relacyjnej równości z tym operatorem. Pozostałe operatory mają łatwe do zrozumienia działanie. Widząc linijkę z operatorem \n",
        "```python \n",
        "zmienna ?= wartosc\n",
        "``` \n",
        "(? jest dowolnym z dopuszczalnych symboli) nalezy widzieć wykonanie następującej akcji \n",
        "```python\n",
        "zmienna = zmienna ? wartosc\n",
        "```\n",
        "I tak"
      ]
    },
    {
      "cell_type": "code",
      "execution_count": null,
      "metadata": {
        "id": "UAfBE04mcqso",
        "outputId": "01ed5369-8481-4d89-d219-92ea01284971"
      },
      "outputs": [
        {
          "name": "stdout",
          "output_type": "stream",
          "text": [
            "8\n"
          ]
        }
      ],
      "source": [
        "x = 5\n",
        "x += 3\n",
        "print(x)"
      ]
    },
    {
      "cell_type": "markdown",
      "metadata": {
        "id": "nun5C0ugcqso"
      },
      "source": [
        "## Operatory identycznościowe\n",
        "\n",
        "Są operatorami mającymi za zadanie sprawdzić czy dane dwie etykiety przechowują ten sam lub nie ten sam obiekt. \n",
        "Operatorami tymi są \n",
        "\n",
        "* is\n",
        "* is not\n",
        "\n",
        "Sens prezentuje poniższy przykład"
      ]
    },
    {
      "cell_type": "code",
      "execution_count": null,
      "metadata": {
        "colab": {
          "base_uri": "https://localhost:8080/"
        },
        "id": "j_js3eKwcqso",
        "outputId": "80c7058c-1879-4a22-a32d-2ccaf52d6c0e"
      },
      "outputs": [
        {
          "output_type": "stream",
          "name": "stdout",
          "text": [
            "To różne obiekty\n",
            "Obiekty mają takie same wartości\n",
            "[5]\n"
          ]
        }
      ],
      "source": [
        "a = [5]\n",
        "b = [5]\n",
        "if a is b:\n",
        "    print('To ten sam obiekt')\n",
        "else :\n",
        "    print('To różne obiekty')\n",
        "    \n",
        "if a == b:\n",
        "    print('Obiekty mają takie same wartości')\n",
        "\n",
        "a.append(6)\n",
        "print(b)"
      ]
    },
    {
      "cell_type": "code",
      "execution_count": 4,
      "metadata": {
        "colab": {
          "base_uri": "https://localhost:8080/"
        },
        "id": "36kIoJC0cqsp",
        "outputId": "8f77cadb-7e91-4bd2-9ba0-afaef0994138"
      },
      "outputs": [
        {
          "output_type": "stream",
          "name": "stdout",
          "text": [
            "To ten sam obiekt\n",
            "Obiekty mają takie same wartości\n",
            "[5, 6]\n"
          ]
        }
      ],
      "source": [
        "a = [5]\n",
        "b = a\n",
        "if a is b:\n",
        "    print('To ten sam obiekt')\n",
        "else :\n",
        "    print('To różne obiekty')\n",
        "    \n",
        "if a == b:\n",
        "    print('Obiekty mają takie same wartości')\n",
        "\n",
        "a.append(6)\n",
        "print(b)"
      ]
    },
    {
      "cell_type": "code",
      "source": [
        "c = a.copy()\n",
        "if a is c:\n",
        "    print('To ten sam obiekt')\n",
        "else :\n",
        "    print('To różne obiekty')\n",
        "    "
      ],
      "metadata": {
        "id": "kwzJYnoXwGUP",
        "outputId": "80420293-0561-4c2e-ad9f-20e6367c63bb",
        "colab": {
          "base_uri": "https://localhost:8080/"
        }
      },
      "execution_count": 6,
      "outputs": [
        {
          "output_type": "stream",
          "name": "stdout",
          "text": [
            "To różne obiekty\n"
          ]
        }
      ]
    },
    {
      "cell_type": "markdown",
      "metadata": {
        "id": "C4OY5op5cqsp"
      },
      "source": [
        "Co ciekawe rozpoznanie to nie działa na typach prostych"
      ]
    },
    {
      "cell_type": "code",
      "execution_count": null,
      "metadata": {
        "id": "a8OG6UaPcqsp",
        "outputId": "5b4d6a40-b5a0-474f-f3cf-9a32efb71f99"
      },
      "outputs": [
        {
          "data": {
            "text/plain": [
              "True"
            ]
          },
          "execution_count": 15,
          "metadata": {},
          "output_type": "execute_result"
        }
      ],
      "source": [
        "a = 5\n",
        "b = 5\n",
        "a is b"
      ]
    },
    {
      "cell_type": "markdown",
      "metadata": {
        "id": "2ikEJRVIcqsp"
      },
      "source": [
        "Najczęściej jednak ten operator stosuje się do kontroli typu"
      ]
    },
    {
      "cell_type": "code",
      "execution_count": null,
      "metadata": {
        "id": "B1GfE9EWcqsq",
        "outputId": "87360a78-e0ff-4471-e0db-05ed93e1b396"
      },
      "outputs": [
        {
          "data": {
            "text/plain": [
              "True"
            ]
          },
          "execution_count": 16,
          "metadata": {},
          "output_type": "execute_result"
        }
      ],
      "source": [
        "a = 5\n",
        "type(a) is int"
      ]
    },
    {
      "cell_type": "code",
      "execution_count": null,
      "metadata": {
        "id": "4Af9ve8rcqsq",
        "outputId": "cd49b8dc-4aef-4d51-d9f3-aea1c54c0db4"
      },
      "outputs": [
        {
          "data": {
            "text/plain": [
              "True"
            ]
          },
          "execution_count": 17,
          "metadata": {},
          "output_type": "execute_result"
        }
      ],
      "source": [
        "type(a) is not str"
      ]
    },
    {
      "cell_type": "markdown",
      "metadata": {
        "id": "op5BPgLQcqsq"
      },
      "source": [
        "Często wykorzystuje się go do sprawdzenia czy dany obiekt został zainicjowany"
      ]
    },
    {
      "cell_type": "code",
      "execution_count": null,
      "metadata": {
        "id": "zEE49AJZcqsq",
        "outputId": "7be29247-65d3-4c31-e486-acb735d2dcd4"
      },
      "outputs": [
        {
          "name": "stdout",
          "output_type": "stream",
          "text": [
            "a jest niezainicjowane\n"
          ]
        }
      ],
      "source": [
        "a = None\n",
        "\n",
        "if a is None:\n",
        "    print('a jest niezainicjowane')\n",
        "else:\n",
        "    print('a jest zainicjowane')"
      ]
    },
    {
      "cell_type": "markdown",
      "metadata": {
        "id": "RVwZiK9Hcqsr"
      },
      "source": [
        "## Operatory przynależności\n",
        "\n",
        "Ostatnią grupą operatorów są te które weryfikują czy element należy do kolekcji. Są to dwa operatory\n",
        "* in \n",
        "* not in\n",
        "\n",
        "z klasycznymi przykładami"
      ]
    },
    {
      "cell_type": "code",
      "execution_count": null,
      "metadata": {
        "id": "1XLCxVGKcqsr",
        "outputId": "523d9c3c-ffd1-480d-b7ed-aa4dadfe67ff"
      },
      "outputs": [
        {
          "name": "stdout",
          "output_type": "stream",
          "text": [
            "Zoo nie ma kota\n"
          ]
        }
      ],
      "source": [
        "zoo = ['lew', 'słoń', 'małpa']\n",
        "if 'kot' in zoo:\n",
        "    print('Zoo ma kota')\n",
        "else:\n",
        "    print('Zoo nie ma kota')"
      ]
    },
    {
      "cell_type": "markdown",
      "metadata": {
        "id": "gMm8a_R0cqsr"
      },
      "source": [
        "oraz"
      ]
    },
    {
      "cell_type": "code",
      "execution_count": null,
      "metadata": {
        "id": "d9i2coYlcqss",
        "outputId": "a1b27784-b5c1-4eb4-d155-576331fd1ee5"
      },
      "outputs": [
        {
          "name": "stdout",
          "output_type": "stream",
          "text": [
            "W zdaniu Ala ma kota występuje literka m\n"
          ]
        }
      ],
      "source": [
        "if 'm' in 'Ala ma kota':\n",
        "    print('W zdaniu Ala ma kota występuje literka m')"
      ]
    },
    {
      "cell_type": "markdown",
      "metadata": {
        "id": "7QaXvyhpcqss"
      },
      "source": [
        "# Zadanie ćwiczeniowe\n",
        "\n",
        "Poznaliśmy już dostatecznie wiele ze składni Pythona aby móc zacząć rozwiązywać bardziej skomplikowane zadania\n",
        "\n",
        "## Zadanie przykładowe (kontener)\n",
        "\n",
        "Przygotujmy skrypt mający na celu gromadzenie naszych notatek w pamięci"
      ]
    },
    {
      "cell_type": "code",
      "execution_count": null,
      "metadata": {
        "id": "HTUiBPQWcqss",
        "outputId": "5ba98ddd-cc75-4235-8ae0-e708937f5b76"
      },
      "outputs": [
        {
          "name": "stdout",
          "output_type": "stream",
          "text": [
            "\n",
            "--------------------------------------\n",
            "---         Program Notatnik       ---\n",
            "--------------------------------------\n",
            "\n",
            "\n",
            "    wybierz odpowiednia akcje\n",
            "    <a> - dodaj wpis,              <w> - wypisz wszystkie notatki\n",
            "    <c> - wyczyść wszystkie wpisy, <q> - wyjdź z programu\n",
            "    \n",
            "q\n",
            "KONIEC\n"
          ]
        }
      ],
      "source": [
        "print(\n",
        "\"\"\"\n",
        "--------------------------------------\n",
        "---         Program Notatnik       ---\n",
        "--------------------------------------\n",
        "\"\"\")\n",
        "czy_koniec = False #taką zmienną jak tutaj nazywamy wartownikiem\n",
        "pamiec = []\n",
        "while(not czy_koniec):\n",
        "    print(\"\"\"\n",
        "    wybierz odpowiednia akcje\n",
        "    <a> - dodaj wpis,              <w> - wypisz wszystkie notatki\n",
        "    <c> - wyczyść wszystkie wpisy, <q> - wyjdź z programu\n",
        "    \"\"\")\n",
        "    komenda = input()\n",
        "    if komenda == 'a':\n",
        "        print(\"Podaj treść notatki i zatwierdź enter\\n>\")\n",
        "        notatka = input()\n",
        "        pamiec.append(notatka)\n",
        "    elif komenda == 'w':\n",
        "        print(\"-----------------------------------------------\")\n",
        "        for notatka in pamiec:\n",
        "            print(notatka)\n",
        "            print(\"-*-*-*-*-*-*-*-*-*-*-*-*-*-*-*-*-*-*-*-*-*-*-*-\")\n",
        "        print(\"-----------------------------------------------\")\n",
        "    elif komenda == 'c':\n",
        "        pamiec = []\n",
        "    elif komenda == 'q':\n",
        "        czy_koniec = True\n",
        "    else:\n",
        "        print('Niepoprawna komenda, sprobuj ponownie')\n",
        "print('KONIEC')\n",
        "        \n",
        "\n"
      ]
    },
    {
      "cell_type": "markdown",
      "metadata": {
        "id": "xlgfKqlQcqss"
      },
      "source": [
        "## Zadanie (kalkulator 4 działaniowy)\n",
        "\n",
        "W zadaniu należy napisać kalkulator wczytujący od użytkownika kolejno\n",
        "\n",
        "* liczbę (pierwszy operand)\n",
        "* znak +,-,* lub /\n",
        "* liczbę (drugi operand)\n",
        "\n",
        "i zwracający wynik odpowiedniego działania kalkulatorowego"
      ]
    },
    {
      "cell_type": "code",
      "source": [
        "a=float(input(\"Podaj liczbę: \"))\n",
        "b=input(\"Podaj znak: \")\n",
        "c=float(input(\"Podaj liczbę: \"))\n",
        "\n",
        "if b == \"+\":\n",
        "  print(a+c)\n",
        "elif b == \"-\":\n",
        "  print(a-c)\n",
        "elif b == \"*\":\n",
        "  print(a*c)\n",
        "elif b == \"/\":\n",
        "  print(a/c)\n",
        "else:\n",
        "  print(\"Nie rozumiem!\")\n"
      ],
      "metadata": {
        "colab": {
          "base_uri": "https://localhost:8080/"
        },
        "id": "WmBUlHgdrs8C",
        "outputId": "bd5930fa-c8d2-4b8d-b6d7-865a361f8687"
      },
      "execution_count": null,
      "outputs": [
        {
          "output_type": "stream",
          "name": "stdout",
          "text": [
            "Podaj liczbę: 10.2\n",
            "Podaj znak: /\n",
            "Podaj liczbę: 3\n",
            "3.4\n"
          ]
        }
      ]
    },
    {
      "cell_type": "markdown",
      "metadata": {
        "id": "XuYe3kVZcqss"
      },
      "source": [
        "## Zadanie (konwerter znaków)\n",
        "\n",
        "Napisać program, który po wczytaniu od użytkownika zdania wypisze je ponownie Wielkimi lub małymi literami"
      ]
    },
    {
      "cell_type": "code",
      "source": [
        "napis = input()\n",
        "napis2 = \"\"\n",
        "for z in napis:\n",
        "  napis2 += z.upper()\n",
        "print(napis2)\n",
        "#lepiej\n",
        "print(napis.upper())"
      ],
      "metadata": {
        "colab": {
          "base_uri": "https://localhost:8080/"
        },
        "id": "Ig1_HNGKtIT6",
        "outputId": "71e53cae-bfe2-4d4a-8a66-dd4998bd5360"
      },
      "execution_count": null,
      "outputs": [
        {
          "output_type": "stream",
          "name": "stdout",
          "text": [
            "Ala.\n",
            "ALA.\n",
            "ALA.\n"
          ]
        }
      ]
    },
    {
      "cell_type": "markdown",
      "metadata": {
        "id": "W3kyBwlvcqss"
      },
      "source": [
        "##  Zadanie (papuga)\n",
        "\n",
        "Napisać program, który wczyta od nas zdanie oraz liczbę - poczym wypisze \"Rrraa\" i powtórzy otrzymane zdanie - liczbę razy."
      ]
    },
    {
      "cell_type": "markdown",
      "metadata": {
        "id": "vlUyvY9Gcqss"
      },
      "source": [
        "## Zadanie (brydż bez atu)\n",
        "\n",
        "W zadaniu tym do przygotowanego poniżej szablonu dopisać należy kod, w którym będziemy chcieli zagrać najlepszą kartą z talii tj.\n",
        "\n",
        "* najsłabszą bijącą (wyższą w tym samym kolorze) wyłożoną przez przeciwnika\n",
        "* najsłabszą niebijącą z całej talii gdy nie można pobić\n",
        "* jeśli mamy kartę w kolorze w ręce, nie możemy rzucić niczego z innego koloru\n",
        "\n",
        "W tle można słuchać klasyków [muzyki](https://www.youtube.com/watch?v=dOjFcx3GJHg) \n",
        "\n",
        "\"I know that the spades are the swords of a soldier\n",
        "\n",
        "I know that the clubs are weapons of war\n",
        "\n",
        "I know that diamonds mean money for this art\n",
        "\n",
        "But that's not the shape of my heart...\""
      ]
    },
    {
      "cell_type": "code",
      "execution_count": null,
      "metadata": {
        "id": "zXs0MG53cqst"
      },
      "outputs": [],
      "source": [
        "king = 'Krol'\n",
        "quenn = 'Dama'\n",
        "jack = 'Walet'\n",
        "ace = 'As' #as jest słowem kluczowym w Python, nie można go użyć jako nazwy dla zmiennej\n",
        "\n",
        "hearts = 'kier'\n",
        "diamonds = 'karo'\n",
        "clubs = 'trefl'\n",
        "spades = 'pik'\n",
        "\n",
        "\n",
        "\n",
        "przeciwnik = ( king, hearts)\n",
        "\n",
        "reka = [ (ace, spades), (ace, diamonds), (quenn, clubs), (4, spades), (2, hearts)  ]\n",
        "\n",
        "# ty = ..."
      ]
    },
    {
      "cell_type": "markdown",
      "metadata": {
        "id": "L0a2_F4qcqst"
      },
      "source": [
        "## Zadanie (brydż z atu)\n",
        "\n",
        "\n",
        "Jak powyżej ale pojawia się dodatkowy parametr, kolor atutowy. Wybrany kolor pozwala na pobicie dowolnego innego koloru. koloru atutowego nie można jednak rzucić jeśli mamy kartę w kolorze"
      ]
    },
    {
      "cell_type": "code",
      "execution_count": null,
      "metadata": {
        "id": "FRO2AsUTcqst"
      },
      "outputs": [],
      "source": [
        "atu = hearts"
      ]
    },
    {
      "cell_type": "code",
      "execution_count": null,
      "metadata": {
        "id": "jo_YlKtQcqst"
      },
      "outputs": [],
      "source": []
    }
  ],
  "metadata": {
    "kernelspec": {
      "display_name": "Python 3 (ipykernel)",
      "language": "python",
      "name": "python3"
    },
    "language_info": {
      "codemirror_mode": {
        "name": "ipython",
        "version": 3
      },
      "file_extension": ".py",
      "mimetype": "text/x-python",
      "name": "python",
      "nbconvert_exporter": "python",
      "pygments_lexer": "ipython3",
      "version": "3.9.2"
    },
    "colab": {
      "provenance": [],
      "collapsed_sections": [],
      "include_colab_link": true
    }
  },
  "nbformat": 4,
  "nbformat_minor": 0
}
