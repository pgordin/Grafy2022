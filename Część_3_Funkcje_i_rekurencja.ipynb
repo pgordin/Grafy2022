{
  "cells": [
    {
      "cell_type": "markdown",
      "metadata": {
        "id": "view-in-github",
        "colab_type": "text"
      },
      "source": [
        "<a href=\"https://colab.research.google.com/github/pgordin/Grafy2022/blob/main/Cz%C4%99%C5%9B%C4%87_3_Funkcje_i_rekurencja.ipynb\" target=\"_parent\"><img src=\"https://colab.research.google.com/assets/colab-badge.svg\" alt=\"Open In Colab\"/></a>"
      ]
    },
    {
      "cell_type": "markdown",
      "id": "junior-boards",
      "metadata": {
        "id": "junior-boards"
      },
      "source": [
        "## Ciąg Fibonacciego\n",
        "\n",
        "$$ 0, 1, 1, 2, 3, 5, 8, 13, 21, \\dots $$\n",
        "$$ a_n = \\left \\{ \\begin{array}{lll}\n",
        "n & \\textrm{dla} & n \\le 1 \\\\\n",
        "a_{n-1}+a_{n-2} & \\textrm{dla} & n > 1\n",
        "\\end{array}\n",
        "\\right. $$"
      ]
    },
    {
      "cell_type": "code",
      "execution_count": null,
      "id": "combined-difference",
      "metadata": {
        "colab": {
          "base_uri": "https://localhost:8080/"
        },
        "id": "combined-difference",
        "outputId": "86ff1583-0b07-4ab6-cc95-f31c46309717"
      },
      "outputs": [
        {
          "output_type": "stream",
          "name": "stdout",
          "text": [
            "832040\n"
          ]
        }
      ],
      "source": [
        "def fib1(n):\n",
        "    if n <= 1:\n",
        "        return n\n",
        "    else:\n",
        "        return fib1(n-1)+fib1(n-2)\n",
        "\n",
        "print(fib1(30))"
      ]
    },
    {
      "cell_type": "code",
      "source": [
        "print(fib1(30)) # Fib1(40) raczejbym nie próbował."
      ],
      "metadata": {
        "colab": {
          "base_uri": "https://localhost:8080/"
        },
        "id": "gnOfbcxaw-P5",
        "outputId": "109defb6-6617-4224-b201-831088c8ced8"
      },
      "id": "gnOfbcxaw-P5",
      "execution_count": null,
      "outputs": [
        {
          "output_type": "stream",
          "name": "stdout",
          "text": [
            "832040\n"
          ]
        }
      ]
    },
    {
      "cell_type": "code",
      "source": [
        "def f():\n",
        "  pass  # to jest pusty kod\n",
        "\n",
        "print(\"Coś\")\n",
        "\n",
        "def ffib2(n):\n",
        "  \"\"\"\n",
        "  n- ta liczba Fibonacciego przez programowanie dynamiczne\n",
        "  \"\"\"\n",
        "  if n <= 1:\n",
        "     return n\n",
        "  else :  \n",
        "    a, b = 0, 1\n",
        "    for i in range(1, n):\n",
        "      a, b = b, a + b\n",
        "    return b\n",
        "\n",
        "ffib2(400)"
      ],
      "metadata": {
        "colab": {
          "base_uri": "https://localhost:8080/"
        },
        "id": "TOKCy5UNyUpr",
        "outputId": "a08e4127-c025-4b2a-a233-a9d0b53003fb"
      },
      "id": "TOKCy5UNyUpr",
      "execution_count": null,
      "outputs": [
        {
          "output_type": "stream",
          "name": "stdout",
          "text": [
            "Coś\n"
          ]
        },
        {
          "output_type": "execute_result",
          "data": {
            "text/plain": [
              "176023680645013966468226945392411250770384383304492191886725992896575345044216019675"
            ]
          },
          "metadata": {},
          "execution_count": 11
        }
      ]
    },
    {
      "cell_type": "code",
      "execution_count": null,
      "id": "cathedral-budget",
      "metadata": {
        "colab": {
          "base_uri": "https://localhost:8080/"
        },
        "id": "cathedral-budget",
        "outputId": "f0b425c7-054f-402e-fddf-671e0d91ed56"
      },
      "outputs": [
        {
          "output_type": "stream",
          "name": "stdout",
          "text": [
            "832040\n",
            "1.618033988749895\n",
            "-0.6180339887498949\n",
            "122.99186938124426\n"
          ]
        }
      ],
      "source": [
        "def fib2(n):\n",
        "    if n <= 1:\n",
        "        return n\n",
        "    else:\n",
        "        tabl = [0, 1]\n",
        "        for i in range(2, n+1):\n",
        "            tabl.append(tabl[i-1]+tabl[i-2])\n",
        "        return tabl[n]\n",
        "    \n",
        "print(fib2(30))\n",
        "print((1+(5)**(1/2))/2)\n",
        "print((((1-(5)**(1/2))/2)))\n",
        "print(((1+(5)**(1/2))/2)**(10)) # tyle razy dłużej liczy się o 10 większa liczba wg rekurencji"
      ]
    },
    {
      "cell_type": "code",
      "execution_count": null,
      "id": "sweet-employer",
      "metadata": {
        "colab": {
          "base_uri": "https://localhost:8080/"
        },
        "id": "sweet-employer",
        "outputId": "c8c9443f-e6fe-432e-b233-e903690249b4"
      },
      "outputs": [
        {
          "output_type": "stream",
          "name": "stdout",
          "text": [
            "832040\n"
          ]
        }
      ],
      "source": [
        "def fib3(n):\n",
        "    return round((((1+(5)**(1/2)))**(n)-((1-(5)**(1/2)))**(n))/2**n/5**(1/2))\n",
        "\n",
        "print(fib3(30))"
      ]
    },
    {
      "cell_type": "markdown",
      "id": "vanilla-washer",
      "metadata": {
        "id": "vanilla-washer"
      },
      "source": [
        "## Największy i najmniejszy element listy"
      ]
    },
    {
      "cell_type": "code",
      "execution_count": 1,
      "id": "smoking-universal",
      "metadata": {
        "colab": {
          "base_uri": "https://localhost:8080/"
        },
        "id": "smoking-universal",
        "outputId": "ca37d3cf-0ffa-4e3e-da75-4b356f11d961"
      },
      "outputs": [
        {
          "output_type": "stream",
          "name": "stdout",
          "text": [
            "(8.657302851822202e-06, 0.9999939406300256)\n"
          ]
        }
      ],
      "source": [
        "import random\n",
        "def minimax1(a):\n",
        "    return min(a), max(a)\n",
        "\n",
        "a = [random.random() for _ in range(100000)]\n",
        "print(minimax1(a))"
      ]
    },
    {
      "cell_type": "code",
      "source": [
        "def minimax6(a):\n",
        "  mmin, mmax, por = a[0], a[0], 0\n",
        "  for x in a[1:]: \n",
        "    por += 2\n",
        "    if x < mmin:\n",
        "      mmin = x\n",
        "      por -= 1\n",
        "    elif x > mmax:\n",
        "      mmax = x\n",
        "  return mmin, mmax, por\n",
        "\n",
        "print(minimax6(a))\n",
        "\n"
      ],
      "metadata": {
        "id": "0_aY1yUZ1ldC",
        "outputId": "83f0fc36-11f1-4fc4-a137-476e21404da0",
        "colab": {
          "base_uri": "https://localhost:8080/"
        }
      },
      "id": "0_aY1yUZ1ldC",
      "execution_count": 4,
      "outputs": [
        {
          "output_type": "stream",
          "name": "stdout",
          "text": [
            "(8.657302851822202e-06, 0.9999939406300256, 199980)\n"
          ]
        }
      ]
    },
    {
      "cell_type": "markdown",
      "id": "cathedral-sector",
      "metadata": {
        "id": "cathedral-sector"
      },
      "source": [
        "Algorytmiczne podejście."
      ]
    },
    {
      "cell_type": "code",
      "execution_count": null,
      "id": "particular-correlation",
      "metadata": {
        "colab": {
          "base_uri": "https://localhost:8080/"
        },
        "id": "particular-correlation",
        "outputId": "dad7c72c-76e9-47e1-d8f0-4642a55ca852"
      },
      "outputs": [
        {
          "output_type": "stream",
          "name": "stdout",
          "text": [
            "(1.2188843976468355e-05, 0.9999976880740077)\n"
          ]
        }
      ],
      "source": [
        "def minimax2(a):\n",
        "    min1, max1 = a[0], a[0]\n",
        "    for x in a:\n",
        "        if x < min1:\n",
        "            min1 = x\n",
        "        elif x > max1:\n",
        "            max1 = x\n",
        "    return min1, max1\n",
        "\n",
        "print(minimax2(a))"
      ]
    },
    {
      "cell_type": "markdown",
      "id": "expected-constraint",
      "metadata": {
        "id": "expected-constraint"
      },
      "source": [
        "Podzielmy listę na cześci - będzie mniej porównań."
      ]
    },
    {
      "cell_type": "code",
      "execution_count": 6,
      "id": "communist-continent",
      "metadata": {
        "id": "communist-continent",
        "outputId": "6dd4e3cc-83a0-4290-c121-0320a247d1ed",
        "colab": {
          "base_uri": "https://localhost:8080/"
        }
      },
      "outputs": [
        {
          "output_type": "stream",
          "name": "stdout",
          "text": [
            "(8.657302851822202e-06, 0.9999939406300256, 165534)\n"
          ]
        }
      ],
      "source": [
        "def minimax3(a):\n",
        "    leng = len(a)\n",
        "    if leng <= 2:\n",
        "        return min(a), max(a), leng-1\n",
        "    else:\n",
        "        x = leng // 2\n",
        "        min1, max1, por1 = minimax3(a[0:x])\n",
        "        min2, max2, por2 = minimax3(a[x:leng])\n",
        "        por = por1 + por2 + 2\n",
        "        if min1 < min2:\n",
        "            min3 = min1\n",
        "        else: \n",
        "            min3 = min2\n",
        "        if max1 > max2:\n",
        "            max3 = max1\n",
        "        else:\n",
        "            max3 = max2\n",
        "        return min3, max3, por\n",
        "\n",
        "print(minimax3(a))"
      ]
    },
    {
      "cell_type": "code",
      "execution_count": 7,
      "id": "julian-decade",
      "metadata": {
        "colab": {
          "base_uri": "https://localhost:8080/"
        },
        "id": "julian-decade",
        "outputId": "5bfcacf6-6aa7-4e6d-d0c3-efcfd38f08b0"
      },
      "outputs": [
        {
          "output_type": "stream",
          "name": "stdout",
          "text": [
            "(8.657302851822202e-06, 0.9999939406300256, 199980)\n",
            "(8.657302851822202e-06, 0.9999939406300256, 165534)\n"
          ]
        }
      ],
      "source": [
        "def minimax4(a, d, g):\n",
        "    leng = g - d\n",
        "    if leng <= 2:\n",
        "        min1 = max1 = a[d]\n",
        "        if leng > 1 and a[g-1] < min1:\n",
        "            min1 = a[g-1]\n",
        "        else: # if a[g-1] > max1:\n",
        "            max1 = a[g-1]\n",
        "        return min1, max1, leng-1\n",
        "    else:\n",
        "        x = leng // 2\n",
        "        min1, max1, por1 = minimax4(a, d, d + x)\n",
        "        min2, max2, por2 = minimax4(a, d + x, g)\n",
        "        por = por1 + por2 + 2\n",
        "        if min1 < min2:\n",
        "            min3 = min1\n",
        "        else: \n",
        "            min3 = min2\n",
        "        if max1 > max2:\n",
        "            max3 = max1\n",
        "        else:\n",
        "            max3 = max2\n",
        "        return min3, max3, por\n",
        "    \n",
        "print(minimax6(a))\n",
        "print(minimax4(a, 0, len(a)))"
      ]
    },
    {
      "cell_type": "markdown",
      "id": "accepting-defensive",
      "metadata": {
        "id": "accepting-defensive"
      },
      "source": [
        "Porównanie czasów wykonania"
      ]
    },
    {
      "cell_type": "code",
      "execution_count": 9,
      "id": "generic-civilian",
      "metadata": {
        "colab": {
          "base_uri": "https://localhost:8080/"
        },
        "id": "generic-civilian",
        "outputId": "e4bf3b31-76c2-42f3-b53a-f2bb98862e3e"
      },
      "outputs": [
        {
          "output_type": "stream",
          "name": "stdout",
          "text": [
            "3.15 ms ± 60.4 µs per loop (mean ± std. dev. of 7 runs, 100 loops each)\n",
            "10.4 ms ± 135 µs per loop (mean ± std. dev. of 7 runs, 100 loops each)\n",
            "81.7 ms ± 284 µs per loop (mean ± std. dev. of 7 runs, 100 loops each)\n",
            "57 ms ± 147 µs per loop (mean ± std. dev. of 7 runs, 100 loops each)\n"
          ]
        }
      ],
      "source": [
        "%timeit -n100 mm1 = minimax1(a)\n",
        "%timeit -n100 mm2 = minimax6(a)\n",
        "%timeit -n100 mm3 = minimax3(a)\n",
        "%timeit -n100 mm4 = minimax4(a, 0, len(a))"
      ]
    },
    {
      "cell_type": "markdown",
      "id": "broadband-affiliate",
      "metadata": {
        "id": "broadband-affiliate"
      },
      "source": [
        "## Ciąg Fibonacciego raz jeszcze\n",
        "\n",
        "Niech\n",
        "$$ A = \\left[ \\begin{array}{cc}\n",
        "1 & 1 \\\\\n",
        "1 & 0\n",
        "\\end{array}\n",
        "\\right] = \\left[ \\begin{array}{cc}\n",
        "a_2 & a_1 \\\\\n",
        "a_1 & a_0\n",
        "\\end{array}\n",
        "\\right], \\qquad B = \\left[ \\begin{array}{cc}\n",
        "a_n & a_{n-1} \\\\\n",
        "a_{n-1} & a_{n-2}\n",
        "\\end{array}\n",
        "\\right].$$\n",
        "\n",
        "Wówczas\n",
        "$$ A B = \\left[ \\begin{array}{cc}\n",
        "a_{n+1} & a_{n} \\\\\n",
        "a_{n} & a_{n-1}\n",
        "\\end{array}\n",
        "\\right].$$\n",
        "\n",
        "Zatem\n",
        "$$ A^{n} = \\left[ \\begin{array}{cc}\n",
        "a_{n+1} & a_{n} \\\\\n",
        "a_{n} & a_{n-1}\n",
        "\\end{array}\n",
        "\\right].$$\n",
        "\n",
        "Sprawdźmy to!"
      ]
    },
    {
      "cell_type": "code",
      "execution_count": null,
      "id": "amino-limit",
      "metadata": {
        "colab": {
          "base_uri": "https://localhost:8080/"
        },
        "id": "amino-limit",
        "outputId": "13d08bcb-4c3d-4a13-8faa-4a252db107e6"
      },
      "outputs": [
        {
          "output_type": "stream",
          "name": "stdout",
          "text": [
            "[[1 1]\n",
            " [1 0]]\n",
            "-----------------\n",
            "[[2 1]\n",
            " [1 1]]\n",
            "-----------------\n",
            "[[3 2]\n",
            " [2 1]]\n",
            "-----------------\n",
            "[[5 3]\n",
            " [3 2]]\n",
            "-----------------\n",
            "[[8 5]\n",
            " [5 3]]\n",
            "-----------------\n",
            "[[13  8]\n",
            " [ 8  5]]\n",
            "-----------------\n",
            "[[21 13]\n",
            " [13  8]]\n",
            "-----------------\n",
            "[[34 21]\n",
            " [21 13]]\n",
            "-----------------\n",
            "[[55 34]\n",
            " [34 21]]\n",
            "-----------------\n",
            "[[89 55]\n",
            " [55 34]]\n"
          ]
        }
      ],
      "source": [
        "import numpy as np\n",
        "\n",
        "A = np.array([[1,1],[1,0]])\n",
        "print(A)\n",
        "B = A.copy()\n",
        "for i in range(1,10):\n",
        "    B = np.matmul(A, B)\n",
        "    print(\"-----------------\")\n",
        "    print(B)"
      ]
    },
    {
      "cell_type": "code",
      "execution_count": null,
      "id": "eleven-atmosphere",
      "metadata": {
        "colab": {
          "base_uri": "https://localhost:8080/"
        },
        "id": "eleven-atmosphere",
        "outputId": "7e18cff2-0c31-46d7-af35-8a2d4361896c"
      },
      "outputs": [
        {
          "output_type": "stream",
          "name": "stdout",
          "text": [
            "6765.0\n",
            "280571172992510140037611932413038677189525\n",
            "280571172992510140032613988474878150311936\n"
          ]
        }
      ],
      "source": [
        "def fib4(n):\n",
        "    A = np.array([[1,1],[1,0]], dtype = np.longfloat)\n",
        "    n = n - 1\n",
        "    B = np.eye(2, dtype = np.longfloat)\n",
        "    while n > 0:\n",
        "        if n % 2 == 1:\n",
        "            B = np.matmul(A, B)\n",
        "        A = np.matmul(A, A)\n",
        "        n = n // 2\n",
        "    return B[0,0]\n",
        "    \n",
        "print((fib4(20)))\n",
        "print(fib2(200)) # właściwe rozwiązanie - python ma nieskończoną dokładność/precyzję\n",
        "print(round(fib4(200))) # przybliżone"
      ]
    },
    {
      "cell_type": "markdown",
      "source": [
        "Macierze Fibonacciego bez numpy"
      ],
      "metadata": {
        "id": "BVnyc-VtECX8"
      },
      "id": "BVnyc-VtECX8"
    },
    {
      "cell_type": "code",
      "source": [
        "def mmul(A, B):\n",
        "  \"\"\"\n",
        "  Mnożenie dwóch macierzy 2 x 2 (podanych jako lista 4 elementowa, wierszami)\n",
        "  \"\"\"\n",
        "  return [A[0]*B[0]+ A[1]*B[2], A[0]*B[1] + A[1]*B[3], A[2]*B[0] + A[3]*B[2], A[2]*B[1]+A[3]*B[3]]\n",
        "\n",
        "def fib5(n):\n",
        "    A = [1,1,1,0]\n",
        "    n = n - 1\n",
        "    B = [1,0,0,1]\n",
        "    while n > 0:\n",
        "        if n % 2 == 1:\n",
        "            B = mmul(A, B)\n",
        "        A = mmul(A, A)\n",
        "        n = n // 2\n",
        "    return B[0]\n",
        "\n",
        "print(fib5(20))\n",
        "print(fib2(200)) \n",
        "print(fib5(200)) # to samo, bo pracujemy na int"
      ],
      "metadata": {
        "colab": {
          "base_uri": "https://localhost:8080/"
        },
        "id": "jpda_l40EBFU",
        "outputId": "dd62c3ea-ef57-4635-adec-4343c76d37dd"
      },
      "id": "jpda_l40EBFU",
      "execution_count": null,
      "outputs": [
        {
          "output_type": "stream",
          "name": "stdout",
          "text": [
            "6765\n",
            "280571172992510140037611932413038677189525\n",
            "280571172992510140037611932413038677189525\n"
          ]
        }
      ]
    },
    {
      "cell_type": "markdown",
      "id": "boxed-dynamics",
      "metadata": {
        "id": "boxed-dynamics"
      },
      "source": [
        "## Karty"
      ]
    },
    {
      "cell_type": "code",
      "execution_count": null,
      "id": "breathing-prairie",
      "metadata": {
        "id": "breathing-prairie",
        "outputId": "f8d985b1-ef3a-442e-cfc2-1f7f201d2dc5"
      },
      "outputs": [
        {
          "name": "stdout",
          "output_type": "stream",
          "text": [
            "['2 kier', '3 kier', '4 kier', '5 kier', '6 kier', '7 kier', '8 kier', '9 kier', '10 kier', 'Walet kier', 'Dama kier', 'Krol kier', 'As kier', '2 karo', '3 karo', '4 karo', '5 karo', '6 karo', '7 karo', '8 karo', '9 karo', '10 karo', 'Walet karo', 'Dama karo', 'Krol karo', 'As karo', '2 trefl', '3 trefl', '4 trefl', '5 trefl', '6 trefl', '7 trefl', '8 trefl', '9 trefl', '10 trefl', 'Walet trefl', 'Dama trefl', 'Krol trefl', 'As trefl', '2 pik', '3 pik', '4 pik', '5 pik', '6 pik', '7 pik', '8 pik', '9 pik', '10 pik', 'Walet pik', 'Dama pik', 'Krol pik', 'As pik']\n",
            "-----------------------------\n",
            "[['4 pik' 'Krol karo' '2 kier' 'Walet karo' '10 trefl']\n",
            " ['3 trefl' '3 karo' 'Dama trefl' '7 kier' '3 kier']\n",
            " ['4 kier' '2 pik' '4 karo' '6 pik' '2 karo']\n",
            " ['5 pik' '5 trefl' '10 kier' 'As trefl' '7 pik']]\n",
            "-----------------------------\n",
            "[['Krol karo' 'Dama kier' '10 kier' '9 pik' '7 karo']\n",
            " ['6 trefl' '5 kier' 'As karo' 'As kier' '8 pik']\n",
            " ['2 trefl' '5 karo' 'Krol trefl' '3 karo' '2 kier']\n",
            " ['As pik' '10 karo' '9 kier' '6 pik' '6 karo']]\n"
          ]
        }
      ],
      "source": [
        "king = 'Krol'\n",
        "queen = 'Dama'\n",
        "jack = 'Walet'\n",
        "ace = 'As'\n",
        "\n",
        "hearts = 'kier'\n",
        "diamonds = 'karo'\n",
        "clubs = 'trefl'\n",
        "spades = 'pik'\n",
        "\n",
        "kolor = [hearts, diamonds, clubs, spades]\n",
        "figura =[]\n",
        "for i in range(2,11,1):\n",
        "    figura.append(str(i))\n",
        "figura.append(jack)\n",
        "figura.append(queen)\n",
        "figura.append(king)\n",
        "figura.append(ace)\n",
        "\n",
        "talia = []\n",
        "for k in kolor:\n",
        "    for f in figura:\n",
        "        talia.append(f+\" \"+ k)\n",
        "print(talia)\n",
        "\n",
        "#alternatywnie\n",
        "kolory = np.char.array(kolor)\n",
        "figury = np.char.array(figura)\n",
        "k, f = np.meshgrid(kolory, figury)\n",
        "talia2 = f + ' ' + k\n",
        "\n",
        "rng = np.random.default_rng()\n",
        "\n",
        "def losowanie(talia, k):\n",
        "    if k <= len(talia):\n",
        "        return rng.choice(talia, k, False)\n",
        "    else:\n",
        "        return talia\n",
        "    \n",
        "print(\"-----------------------------\")\n",
        "karty = losowanie(talia, 20)\n",
        "poker = np.array(karty).reshape(4, 5)\n",
        "print(poker)\n",
        "\n",
        "print(\"-----------------------------\")\n",
        "karty = losowanie(talia2.ravel(), 20)\n",
        "poker = np.array(karty).reshape(4, 5)\n",
        "print(poker)"
      ]
    },
    {
      "cell_type": "code",
      "execution_count": 10,
      "id": "domestic-entrance",
      "metadata": {
        "id": "domestic-entrance"
      },
      "outputs": [],
      "source": [
        "def f(n):\n",
        "  if n % 2 == 0:\n",
        "    return n // 2\n",
        "  else:\n",
        "    return (3 * n + 1) //2\n",
        "\n",
        "def Collatz(n):\n",
        "  lista = [n]\n",
        "  while n > 1:\n",
        "    n = f(n)\n",
        "    lista.append(n)\n",
        "  return lista"
      ]
    },
    {
      "cell_type": "code",
      "source": [
        "print(Collatz(3))"
      ],
      "metadata": {
        "id": "k2NyOlLdE9je",
        "outputId": "6b529a9a-aa42-472f-9735-c524e733470e",
        "colab": {
          "base_uri": "https://localhost:8080/"
        }
      },
      "id": "k2NyOlLdE9je",
      "execution_count": 11,
      "outputs": [
        {
          "output_type": "stream",
          "name": "stdout",
          "text": [
            "[3, 5, 8, 4, 2, 1]\n"
          ]
        }
      ]
    },
    {
      "cell_type": "code",
      "source": [
        "print(Collatz(143))"
      ],
      "metadata": {
        "id": "ISapvuoDFBbB",
        "outputId": "065ada75-89c9-478d-da1c-c000da8ef2d4",
        "colab": {
          "base_uri": "https://localhost:8080/"
        }
      },
      "id": "ISapvuoDFBbB",
      "execution_count": 12,
      "outputs": [
        {
          "output_type": "stream",
          "name": "stdout",
          "text": [
            "[143, 215, 323, 485, 728, 364, 182, 91, 137, 206, 103, 155, 233, 350, 175, 263, 395, 593, 890, 445, 668, 334, 167, 251, 377, 566, 283, 425, 638, 319, 479, 719, 1079, 1619, 2429, 3644, 1822, 911, 1367, 2051, 3077, 4616, 2308, 1154, 577, 866, 433, 650, 325, 488, 244, 122, 61, 92, 46, 23, 35, 53, 80, 40, 20, 10, 5, 8, 4, 2, 1]\n"
          ]
        }
      ]
    },
    {
      "cell_type": "code",
      "source": [
        "print(Collatz(11329934198377334543))"
      ],
      "metadata": {
        "id": "qHa2cU_IFGzj",
        "outputId": "9763f3e2-f04a-4d74-a4af-699d7852a1c4",
        "colab": {
          "base_uri": "https://localhost:8080/"
        }
      },
      "id": "qHa2cU_IFGzj",
      "execution_count": 13,
      "outputs": [
        {
          "output_type": "stream",
          "name": "stdout",
          "text": [
            "[11329934198377334543, 16994901297566001815, 25492351946349002723, 38238527919523504085, 57357791879285256128, 28678895939642628064, 14339447969821314032, 7169723984910657016, 3584861992455328508, 1792430996227664254, 896215498113832127, 1344323247170748191, 2016484870756122287, 3024727306134183431, 4537090959201275147, 6805636438801912721, 10208454658202869082, 5104227329101434541, 7656340993652151812, 3828170496826075906, 1914085248413037953, 2871127872619556930, 1435563936309778465, 2153345904464667698, 1076672952232333849, 1615009428348500774, 807504714174250387, 1211257071261375581, 1816885606892063372, 908442803446031686, 454221401723015843, 681332102584523765, 1021998153876785648, 510999076938392824, 255499538469196412, 127749769234598206, 63874884617299103, 95812326925948655, 143718490388922983, 215577735583384475, 323366603375076713, 485049905062615070, 242524952531307535, 363787428796961303, 545681143195441955, 818521714793162933, 1227782572189744400, 613891286094872200, 306945643047436100, 153472821523718050, 76736410761859025, 115104616142788538, 57552308071394269, 86328462107091404, 43164231053545702, 21582115526772851, 32373173290159277, 48559759935238916, 24279879967619458, 12139939983809729, 18209909975714594, 9104954987857297, 13657432481785946, 6828716240892973, 10243074361339460, 5121537180669730, 2560768590334865, 3841152885502298, 1920576442751149, 2880864664126724, 1440432332063362, 720216166031681, 1080324249047522, 540162124523761, 810243186785642, 405121593392821, 607682390089232, 303841195044616, 151920597522308, 75960298761154, 37980149380577, 56970224070866, 28485112035433, 42727668053150, 21363834026575, 32045751039863, 48068626559795, 72102939839693, 108154409759540, 54077204879770, 27038602439885, 40557903659828, 20278951829914, 10139475914957, 15209213872436, 7604606936218, 3802303468109, 5703455202164, 2851727601082, 1425863800541, 2138795700812, 1069397850406, 534698925203, 802048387805, 1203072581708, 601536290854, 300768145427, 451152218141, 676728327212, 338364163606, 169182081803, 253773122705, 380659684058, 190329842029, 285494763044, 142747381522, 71373690761, 107060536142, 53530268071, 80295402107, 120443103161, 180664654742, 90332327371, 135498491057, 203247736586, 101623868293, 152435802440, 76217901220, 38108950610, 19054475305, 28581712958, 14290856479, 21436284719, 32154427079, 48231640619, 72347460929, 108521191394, 54260595697, 81390893546, 40695446773, 61043170160, 30521585080, 15260792540, 7630396270, 3815198135, 5722797203, 8584195805, 12876293708, 6438146854, 3219073427, 4828610141, 7242915212, 3621457606, 1810728803, 2716093205, 4074139808, 2037069904, 1018534952, 509267476, 254633738, 127316869, 190975304, 95487652, 47743826, 23871913, 35807870, 17903935, 26855903, 40283855, 60425783, 90638675, 135958013, 203937020, 101968510, 50984255, 76476383, 114714575, 172071863, 258107795, 387161693, 580742540, 290371270, 145185635, 217778453, 326667680, 163333840, 81666920, 40833460, 20416730, 10208365, 15312548, 7656274, 3828137, 5742206, 2871103, 4306655, 6459983, 9689975, 14534963, 21802445, 32703668, 16351834, 8175917, 12263876, 6131938, 3065969, 4598954, 2299477, 3449216, 1724608, 862304, 431152, 215576, 107788, 53894, 26947, 40421, 60632, 30316, 15158, 7579, 11369, 17054, 8527, 12791, 19187, 28781, 43172, 21586, 10793, 16190, 8095, 12143, 18215, 27323, 40985, 61478, 30739, 46109, 69164, 34582, 17291, 25937, 38906, 19453, 29180, 14590, 7295, 10943, 16415, 24623, 36935, 55403, 83105, 124658, 62329, 93494, 46747, 70121, 105182, 52591, 78887, 118331, 177497, 266246, 133123, 199685, 299528, 149764, 74882, 37441, 56162, 28081, 42122, 21061, 31592, 15796, 7898, 3949, 5924, 2962, 1481, 2222, 1111, 1667, 2501, 3752, 1876, 938, 469, 704, 352, 176, 88, 44, 22, 11, 17, 26, 13, 20, 10, 5, 8, 4, 2, 1]\n"
          ]
        }
      ]
    }
  ],
  "metadata": {
    "kernelspec": {
      "display_name": "Python 3 (ipykernel)",
      "language": "python",
      "name": "python3"
    },
    "language_info": {
      "codemirror_mode": {
        "name": "ipython",
        "version": 3
      },
      "file_extension": ".py",
      "mimetype": "text/x-python",
      "name": "python",
      "nbconvert_exporter": "python",
      "pygments_lexer": "ipython3",
      "version": "3.9.2"
    },
    "colab": {
      "provenance": [],
      "collapsed_sections": [],
      "include_colab_link": true
    }
  },
  "nbformat": 4,
  "nbformat_minor": 5
}