{
  "cells": [
    {
      "cell_type": "markdown",
      "metadata": {
        "id": "view-in-github",
        "colab_type": "text"
      },
      "source": [
        "<a href=\"https://colab.research.google.com/github/pgordin/Grafy2022/blob/main/Cz%C4%99%C5%9B%C4%87_3_Funkcje_i_rekurencja.ipynb\" target=\"_parent\"><img src=\"https://colab.research.google.com/assets/colab-badge.svg\" alt=\"Open In Colab\"/></a>"
      ]
    },
    {
      "cell_type": "markdown",
      "id": "junior-boards",
      "metadata": {
        "id": "junior-boards"
      },
      "source": [
        "## Ciąg Fibonacciego\n",
        "\n",
        "$$ 0, 1, 1, 2, 3, 5, 8, 13, 21, \\dots $$\n",
        "$$ a_n = \\left \\{ \\begin{array}{lll}\n",
        "n & \\textrm{dla} & n \\le 1 \\\\\n",
        "a_{n-1}+a_{n-2} & \\textrm{dla} & n > 1\n",
        "\\end{array}\n",
        "\\right. $$"
      ]
    },
    {
      "cell_type": "code",
      "execution_count": null,
      "id": "combined-difference",
      "metadata": {
        "colab": {
          "base_uri": "https://localhost:8080/"
        },
        "id": "combined-difference",
        "outputId": "86ff1583-0b07-4ab6-cc95-f31c46309717"
      },
      "outputs": [
        {
          "output_type": "stream",
          "name": "stdout",
          "text": [
            "832040\n"
          ]
        }
      ],
      "source": [
        "def fib1(n):\n",
        "    if n <= 1:\n",
        "        return n\n",
        "    else:\n",
        "        return fib1(n-1)+fib1(n-2)\n",
        "\n",
        "print(fib1(30))"
      ]
    },
    {
      "cell_type": "code",
      "source": [
        "print(fib1(30)) # Fib1(40) raczejbym nie próbował."
      ],
      "metadata": {
        "colab": {
          "base_uri": "https://localhost:8080/"
        },
        "id": "gnOfbcxaw-P5",
        "outputId": "109defb6-6617-4224-b201-831088c8ced8"
      },
      "id": "gnOfbcxaw-P5",
      "execution_count": null,
      "outputs": [
        {
          "output_type": "stream",
          "name": "stdout",
          "text": [
            "832040\n"
          ]
        }
      ]
    },
    {
      "cell_type": "code",
      "source": [
        "def f():\n",
        "  pass  # to jest pusty kod\n",
        "\n",
        "print(\"Coś\")\n",
        "\n",
        "def ffib2(n):\n",
        "  \"\"\"\n",
        "  n- ta liczba Fibonacciego przez programowanie dynamiczne\n",
        "  \"\"\"\n",
        "  if n <= 1:\n",
        "     return n\n",
        "  else :  \n",
        "    a, b = 0, 1\n",
        "    for i in range(1, n):\n",
        "      a, b = b, a + b\n",
        "    return b\n",
        "\n",
        "ffib2(400)"
      ],
      "metadata": {
        "colab": {
          "base_uri": "https://localhost:8080/"
        },
        "id": "TOKCy5UNyUpr",
        "outputId": "a08e4127-c025-4b2a-a233-a9d0b53003fb"
      },
      "id": "TOKCy5UNyUpr",
      "execution_count": null,
      "outputs": [
        {
          "output_type": "stream",
          "name": "stdout",
          "text": [
            "Coś\n"
          ]
        },
        {
          "output_type": "execute_result",
          "data": {
            "text/plain": [
              "176023680645013966468226945392411250770384383304492191886725992896575345044216019675"
            ]
          },
          "metadata": {},
          "execution_count": 11
        }
      ]
    },
    {
      "cell_type": "code",
      "execution_count": null,
      "id": "cathedral-budget",
      "metadata": {
        "colab": {
          "base_uri": "https://localhost:8080/"
        },
        "id": "cathedral-budget",
        "outputId": "f0b425c7-054f-402e-fddf-671e0d91ed56"
      },
      "outputs": [
        {
          "output_type": "stream",
          "name": "stdout",
          "text": [
            "832040\n",
            "1.618033988749895\n",
            "-0.6180339887498949\n",
            "122.99186938124426\n"
          ]
        }
      ],
      "source": [
        "def fib2(n):\n",
        "    if n <= 1:\n",
        "        return n\n",
        "    else:\n",
        "        tabl = [0, 1]\n",
        "        for i in range(2, n+1):\n",
        "            tabl.append(tabl[i-1]+tabl[i-2])\n",
        "        return tabl[n]\n",
        "    \n",
        "print(fib2(30))\n",
        "print((1+(5)**(1/2))/2)\n",
        "print((((1-(5)**(1/2))/2)))\n",
        "print(((1+(5)**(1/2))/2)**(10)) # tyle razy dłużej liczy się o 10 większa liczba wg rekurencji"
      ]
    },
    {
      "cell_type": "code",
      "execution_count": null,
      "id": "sweet-employer",
      "metadata": {
        "colab": {
          "base_uri": "https://localhost:8080/"
        },
        "id": "sweet-employer",
        "outputId": "c8c9443f-e6fe-432e-b233-e903690249b4"
      },
      "outputs": [
        {
          "output_type": "stream",
          "name": "stdout",
          "text": [
            "832040\n"
          ]
        }
      ],
      "source": [
        "def fib3(n):\n",
        "    return round((((1+(5)**(1/2)))**(n)-((1-(5)**(1/2)))**(n))/2**n/5**(1/2))\n",
        "\n",
        "print(fib3(30))"
      ]
    },
    {
      "cell_type": "markdown",
      "id": "vanilla-washer",
      "metadata": {
        "id": "vanilla-washer"
      },
      "source": [
        "## Największy i najmniejszy element listy"
      ]
    },
    {
      "cell_type": "code",
      "execution_count": null,
      "id": "smoking-universal",
      "metadata": {
        "colab": {
          "base_uri": "https://localhost:8080/"
        },
        "id": "smoking-universal",
        "outputId": "29856769-89c8-41ae-c8de-84783d0c5808"
      },
      "outputs": [
        {
          "output_type": "stream",
          "name": "stdout",
          "text": [
            "(1.2188843976468355e-05, 0.9999976880740077)\n"
          ]
        }
      ],
      "source": [
        "import random\n",
        "def minimax1(a):\n",
        "    return min(a), max(a)\n",
        "\n",
        "a = [random.random() for _ in range(100000)]\n",
        "print(minimax1(a))"
      ]
    },
    {
      "cell_type": "markdown",
      "id": "cathedral-sector",
      "metadata": {
        "id": "cathedral-sector"
      },
      "source": [
        "Algorytmiczne podejście."
      ]
    },
    {
      "cell_type": "code",
      "execution_count": null,
      "id": "particular-correlation",
      "metadata": {
        "colab": {
          "base_uri": "https://localhost:8080/"
        },
        "id": "particular-correlation",
        "outputId": "dad7c72c-76e9-47e1-d8f0-4642a55ca852"
      },
      "outputs": [
        {
          "output_type": "stream",
          "name": "stdout",
          "text": [
            "(1.2188843976468355e-05, 0.9999976880740077)\n"
          ]
        }
      ],
      "source": [
        "def minimax2(a):\n",
        "    min1, max1 = a[0], a[0]\n",
        "    for x in a:\n",
        "        if x < min1:\n",
        "            min1 = x\n",
        "        elif x > max1:\n",
        "            max1 = x\n",
        "    return min1, max1\n",
        "\n",
        "print(minimax2(a))"
      ]
    },
    {
      "cell_type": "markdown",
      "id": "expected-constraint",
      "metadata": {
        "id": "expected-constraint"
      },
      "source": [
        "Podzielmy listę na cześci - będzie mniej porównań."
      ]
    },
    {
      "cell_type": "code",
      "execution_count": null,
      "id": "communist-continent",
      "metadata": {
        "id": "communist-continent"
      },
      "outputs": [],
      "source": [
        "def minimax3(a):\n",
        "    leng = len(a)\n",
        "    if leng <= 2:\n",
        "        return min(a), max(a)\n",
        "    else:\n",
        "        x = leng // 2\n",
        "        min1, max1 = minimax3(a[0:x])\n",
        "        min2, max2 = minimax3(a[x:leng])\n",
        "        if min1 < min2:\n",
        "            min3 = min1\n",
        "        else: \n",
        "            min3 = min2\n",
        "        if max1 > max2:\n",
        "            max3 = max1\n",
        "        else:\n",
        "            max3 = max2\n",
        "        return min3, max3"
      ]
    },
    {
      "cell_type": "code",
      "execution_count": null,
      "id": "julian-decade",
      "metadata": {
        "colab": {
          "base_uri": "https://localhost:8080/"
        },
        "id": "julian-decade",
        "outputId": "f71864cc-4cf4-4bb4-d265-bfdff5cea8a7"
      },
      "outputs": [
        {
          "output_type": "stream",
          "name": "stdout",
          "text": [
            "(1.2188843976468355e-05, 0.9999976880740077)\n",
            "(1.2188843976468355e-05, 0.9999976880740077)\n"
          ]
        }
      ],
      "source": [
        "def minimax4(a, d, g):\n",
        "    leng = g - d\n",
        "    if leng <= 2:\n",
        "        min1 = max1 = a[d]\n",
        "        if a[g-1] < min1:\n",
        "            min1 = a[g-1]\n",
        "        else: # if a[g-1] > max1:\n",
        "            max1 = a[g-1]\n",
        "        return min1, max1\n",
        "    else:\n",
        "        x = leng // 2\n",
        "        min1, max1 = minimax4(a, d, d + x)\n",
        "        min2, max2 = minimax4(a, d + x, g)\n",
        "        if min1 < min2:\n",
        "            min3 = min1\n",
        "        else: \n",
        "            min3 = min2\n",
        "        if max1 > max2:\n",
        "            max3 = max1\n",
        "        else:\n",
        "            max3 = max2\n",
        "        return min3, max3\n",
        "    \n",
        "print(minimax1(a))\n",
        "print(minimax4(a, 0, len(a)))"
      ]
    },
    {
      "cell_type": "markdown",
      "id": "accepting-defensive",
      "metadata": {
        "id": "accepting-defensive"
      },
      "source": [
        "Porównanie czasów wykonania"
      ]
    },
    {
      "cell_type": "code",
      "execution_count": null,
      "id": "generic-civilian",
      "metadata": {
        "colab": {
          "base_uri": "https://localhost:8080/"
        },
        "id": "generic-civilian",
        "outputId": "215e0857-760c-46de-f9d9-9d05dbfb5e53"
      },
      "outputs": [
        {
          "output_type": "stream",
          "name": "stdout",
          "text": [
            "100 loops, best of 5: 3.86 ms per loop\n",
            "100 loops, best of 5: 6.73 ms per loop\n",
            "100 loops, best of 5: 80.4 ms per loop\n",
            "100 loops, best of 5: 55.3 ms per loop\n"
          ]
        }
      ],
      "source": [
        "%timeit -n100 mm1 = minimax1(a)\n",
        "%timeit -n100 mm2 = minimax2(a)\n",
        "%timeit -n100 mm3 = minimax3(a)\n",
        "%timeit -n100 mm4 = minimax4(a, 0, len(a))"
      ]
    },
    {
      "cell_type": "markdown",
      "id": "broadband-affiliate",
      "metadata": {
        "id": "broadband-affiliate"
      },
      "source": [
        "## Ciąg Fibonacciego raz jeszcze\n",
        "\n",
        "Niech\n",
        "$$ A = \\left[ \\begin{array}{cc}\n",
        "1 & 1 \\\\\n",
        "1 & 0\n",
        "\\end{array}\n",
        "\\right] = \\left[ \\begin{array}{cc}\n",
        "a_2 & a_1 \\\\\n",
        "a_1 & a_0\n",
        "\\end{array}\n",
        "\\right], \\qquad B = \\left[ \\begin{array}{cc}\n",
        "a_n & a_{n-1} \\\\\n",
        "a_{n-1} & a_{n-2}\n",
        "\\end{array}\n",
        "\\right].$$\n",
        "\n",
        "Wówczas\n",
        "$$ A B = \\left[ \\begin{array}{cc}\n",
        "a_{n+1} & a_{n} \\\\\n",
        "a_{n} & a_{n-1}\n",
        "\\end{array}\n",
        "\\right].$$\n",
        "\n",
        "Zatem\n",
        "$$ A^{n} = \\left[ \\begin{array}{cc}\n",
        "a_{n+1} & a_{n} \\\\\n",
        "a_{n} & a_{n-1}\n",
        "\\end{array}\n",
        "\\right].$$\n",
        "\n",
        "Sprawdźmy to!"
      ]
    },
    {
      "cell_type": "code",
      "execution_count": null,
      "id": "amino-limit",
      "metadata": {
        "colab": {
          "base_uri": "https://localhost:8080/"
        },
        "id": "amino-limit",
        "outputId": "13d08bcb-4c3d-4a13-8faa-4a252db107e6"
      },
      "outputs": [
        {
          "output_type": "stream",
          "name": "stdout",
          "text": [
            "[[1 1]\n",
            " [1 0]]\n",
            "-----------------\n",
            "[[2 1]\n",
            " [1 1]]\n",
            "-----------------\n",
            "[[3 2]\n",
            " [2 1]]\n",
            "-----------------\n",
            "[[5 3]\n",
            " [3 2]]\n",
            "-----------------\n",
            "[[8 5]\n",
            " [5 3]]\n",
            "-----------------\n",
            "[[13  8]\n",
            " [ 8  5]]\n",
            "-----------------\n",
            "[[21 13]\n",
            " [13  8]]\n",
            "-----------------\n",
            "[[34 21]\n",
            " [21 13]]\n",
            "-----------------\n",
            "[[55 34]\n",
            " [34 21]]\n",
            "-----------------\n",
            "[[89 55]\n",
            " [55 34]]\n"
          ]
        }
      ],
      "source": [
        "import numpy as np\n",
        "\n",
        "A = np.array([[1,1],[1,0]])\n",
        "print(A)\n",
        "B = A.copy()\n",
        "for i in range(1,10):\n",
        "    B = np.matmul(A, B)\n",
        "    print(\"-----------------\")\n",
        "    print(B)"
      ]
    },
    {
      "cell_type": "code",
      "execution_count": null,
      "id": "eleven-atmosphere",
      "metadata": {
        "colab": {
          "base_uri": "https://localhost:8080/"
        },
        "id": "eleven-atmosphere",
        "outputId": "7e18cff2-0c31-46d7-af35-8a2d4361896c"
      },
      "outputs": [
        {
          "output_type": "stream",
          "name": "stdout",
          "text": [
            "6765.0\n",
            "280571172992510140037611932413038677189525\n",
            "280571172992510140032613988474878150311936\n"
          ]
        }
      ],
      "source": [
        "def fib4(n):\n",
        "    A = np.array([[1,1],[1,0]], dtype = np.longfloat)\n",
        "    n = n - 1\n",
        "    B = np.eye(2, dtype = np.longfloat)\n",
        "    while n > 0:\n",
        "        if n % 2 == 1:\n",
        "            B = np.matmul(A, B)\n",
        "        A = np.matmul(A, A)\n",
        "        n = n // 2\n",
        "    return B[0,0]\n",
        "    \n",
        "print((fib4(20)))\n",
        "print(fib2(200)) # właściwe rozwiązanie - python ma nieskończoną dokładność/precyzję\n",
        "print(round(fib4(200))) # przybliżone"
      ]
    },
    {
      "cell_type": "markdown",
      "source": [
        "Macierze Fibonacciego bez numpy"
      ],
      "metadata": {
        "id": "BVnyc-VtECX8"
      },
      "id": "BVnyc-VtECX8"
    },
    {
      "cell_type": "code",
      "source": [
        "def mmul(A, B):\n",
        "  \"\"\"\n",
        "  Mnożenie dwóch macierzy 2 x 2 (podanych jako lista 4 elementowa, wierszami)\n",
        "  \"\"\"\n",
        "  return [A[0]*B[0]+ A[1]*B[2], A[0]*B[1] + A[1]*B[3], A[2]*B[0] + A[3]*B[2], A[2]*B[1]+A[3]*B[3]]\n",
        "\n",
        "def fib5(n):\n",
        "    A = [1,1,1,0]\n",
        "    n = n - 1\n",
        "    B = [1,0,0,1]\n",
        "    while n > 0:\n",
        "        if n % 2 == 1:\n",
        "            B = mmul(A, B)\n",
        "        A = mmul(A, A)\n",
        "        n = n // 2\n",
        "    return B[0]\n",
        "\n",
        "print(fib5(20))\n",
        "print(fib2(200)) \n",
        "print(fib5(200)) # to samo, bo pracujemy na int"
      ],
      "metadata": {
        "colab": {
          "base_uri": "https://localhost:8080/"
        },
        "id": "jpda_l40EBFU",
        "outputId": "dd62c3ea-ef57-4635-adec-4343c76d37dd"
      },
      "id": "jpda_l40EBFU",
      "execution_count": null,
      "outputs": [
        {
          "output_type": "stream",
          "name": "stdout",
          "text": [
            "6765\n",
            "280571172992510140037611932413038677189525\n",
            "280571172992510140037611932413038677189525\n"
          ]
        }
      ]
    },
    {
      "cell_type": "markdown",
      "id": "boxed-dynamics",
      "metadata": {
        "id": "boxed-dynamics"
      },
      "source": [
        "## Karty"
      ]
    },
    {
      "cell_type": "code",
      "execution_count": null,
      "id": "breathing-prairie",
      "metadata": {
        "id": "breathing-prairie",
        "outputId": "f8d985b1-ef3a-442e-cfc2-1f7f201d2dc5"
      },
      "outputs": [
        {
          "name": "stdout",
          "output_type": "stream",
          "text": [
            "['2 kier', '3 kier', '4 kier', '5 kier', '6 kier', '7 kier', '8 kier', '9 kier', '10 kier', 'Walet kier', 'Dama kier', 'Krol kier', 'As kier', '2 karo', '3 karo', '4 karo', '5 karo', '6 karo', '7 karo', '8 karo', '9 karo', '10 karo', 'Walet karo', 'Dama karo', 'Krol karo', 'As karo', '2 trefl', '3 trefl', '4 trefl', '5 trefl', '6 trefl', '7 trefl', '8 trefl', '9 trefl', '10 trefl', 'Walet trefl', 'Dama trefl', 'Krol trefl', 'As trefl', '2 pik', '3 pik', '4 pik', '5 pik', '6 pik', '7 pik', '8 pik', '9 pik', '10 pik', 'Walet pik', 'Dama pik', 'Krol pik', 'As pik']\n",
            "-----------------------------\n",
            "[['4 pik' 'Krol karo' '2 kier' 'Walet karo' '10 trefl']\n",
            " ['3 trefl' '3 karo' 'Dama trefl' '7 kier' '3 kier']\n",
            " ['4 kier' '2 pik' '4 karo' '6 pik' '2 karo']\n",
            " ['5 pik' '5 trefl' '10 kier' 'As trefl' '7 pik']]\n",
            "-----------------------------\n",
            "[['Krol karo' 'Dama kier' '10 kier' '9 pik' '7 karo']\n",
            " ['6 trefl' '5 kier' 'As karo' 'As kier' '8 pik']\n",
            " ['2 trefl' '5 karo' 'Krol trefl' '3 karo' '2 kier']\n",
            " ['As pik' '10 karo' '9 kier' '6 pik' '6 karo']]\n"
          ]
        }
      ],
      "source": [
        "king = 'Krol'\n",
        "queen = 'Dama'\n",
        "jack = 'Walet'\n",
        "ace = 'As'\n",
        "\n",
        "hearts = 'kier'\n",
        "diamonds = 'karo'\n",
        "clubs = 'trefl'\n",
        "spades = 'pik'\n",
        "\n",
        "kolor = [hearts, diamonds, clubs, spades]\n",
        "figura =[]\n",
        "for i in range(2,11,1):\n",
        "    figura.append(str(i))\n",
        "figura.append(jack)\n",
        "figura.append(queen)\n",
        "figura.append(king)\n",
        "figura.append(ace)\n",
        "\n",
        "talia = []\n",
        "for k in kolor:\n",
        "    for f in figura:\n",
        "        talia.append(f+\" \"+ k)\n",
        "print(talia)\n",
        "\n",
        "#alternatywnie\n",
        "kolory = np.char.array(kolor)\n",
        "figury = np.char.array(figura)\n",
        "k, f = np.meshgrid(kolory, figury)\n",
        "talia2 = f + ' ' + k\n",
        "\n",
        "rng = np.random.default_rng()\n",
        "\n",
        "def losowanie(talia, k):\n",
        "    if k <= len(talia):\n",
        "        return rng.choice(talia, k, False)\n",
        "    else:\n",
        "        return talia\n",
        "    \n",
        "print(\"-----------------------------\")\n",
        "karty = losowanie(talia, 20)\n",
        "poker = np.array(karty).reshape(4, 5)\n",
        "print(poker)\n",
        "\n",
        "print(\"-----------------------------\")\n",
        "karty = losowanie(talia2.ravel(), 20)\n",
        "poker = np.array(karty).reshape(4, 5)\n",
        "print(poker)"
      ]
    },
    {
      "cell_type": "code",
      "execution_count": null,
      "id": "domestic-entrance",
      "metadata": {
        "id": "domestic-entrance"
      },
      "outputs": [],
      "source": []
    }
  ],
  "metadata": {
    "kernelspec": {
      "display_name": "Python 3 (ipykernel)",
      "language": "python",
      "name": "python3"
    },
    "language_info": {
      "codemirror_mode": {
        "name": "ipython",
        "version": 3
      },
      "file_extension": ".py",
      "mimetype": "text/x-python",
      "name": "python",
      "nbconvert_exporter": "python",
      "pygments_lexer": "ipython3",
      "version": "3.9.2"
    },
    "colab": {
      "provenance": [],
      "collapsed_sections": [],
      "include_colab_link": true
    }
  },
  "nbformat": 4,
  "nbformat_minor": 5
}