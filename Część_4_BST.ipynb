{
  "nbformat": 4,
  "nbformat_minor": 0,
  "metadata": {
    "colab": {
      "provenance": [],
      "collapsed_sections": [],
      "authorship_tag": "ABX9TyN6y2QeXXzCw4W55x8ocLXr",
      "include_colab_link": true
    },
    "kernelspec": {
      "name": "python3",
      "display_name": "Python 3"
    },
    "language_info": {
      "name": "python"
    }
  },
  "cells": [
    {
      "cell_type": "markdown",
      "metadata": {
        "id": "view-in-github",
        "colab_type": "text"
      },
      "source": [
        "<a href=\"https://colab.research.google.com/github/pgordin/Grafy2022/blob/main/Cz%C4%99%C5%9B%C4%87_4_BST.ipynb\" target=\"_parent\"><img src=\"https://colab.research.google.com/assets/colab-badge.svg\" alt=\"Open In Colab\"/></a>"
      ]
    },
    {
      "cell_type": "markdown",
      "metadata": {
        "id": "ownf3xqLiNeb"
      },
      "source": [
        "## Drzewa przeszukiwań binarnych (BST)"
      ]
    },
    {
      "cell_type": "markdown",
      "metadata": {
        "id": "8GJhmUq1h4uV"
      },
      "source": [
        "Przyda się generator liczb losowych."
      ]
    },
    {
      "cell_type": "code",
      "metadata": {
        "id": "ejKheq8T2-Kq"
      },
      "source": [
        "from numpy import random"
      ],
      "execution_count": null,
      "outputs": []
    },
    {
      "cell_type": "markdown",
      "metadata": {
        "id": "s1hbBLcAiIin"
      },
      "source": [
        "Podstawowe funkcje do drzew BST."
      ]
    },
    {
      "cell_type": "code",
      "metadata": {
        "id": "iLXQbXOF3J58"
      },
      "source": [
        "def new_node(value):\n",
        "  \"\"\"\n",
        "  Nowy wierzchołek drzewa\n",
        "  \"\"\"\n",
        "  return {'val': value, 'n': 1, 'left': None, 'right': None}"
      ],
      "execution_count": null,
      "outputs": []
    },
    {
      "cell_type": "code",
      "metadata": {
        "id": "VHdJrfhC3h57"
      },
      "source": [
        "def add_value(tree, value):\n",
        "  \"\"\"\n",
        "  Dodanie nowej wartości do drzewa\n",
        "  \"\"\"\n",
        "  if value < tree['val']:   # dodaj do lewego poddrzewa\n",
        "    if tree['left'] is None:\n",
        "      tree['left'] = new_node(value)\n",
        "    else:\n",
        "      add_value(tree['left'], value)\n",
        "  elif value > tree['val']: # dodaj do prawego poddrzewa\n",
        "    if tree['right'] is None:\n",
        "      tree['right'] = new_node(value)\n",
        "    else:\n",
        "      add_value(tree['right'], value)\n",
        "  else:\n",
        "    tree['n'] += 1  # wartość już jest - doliczmy wystapienie"
      ],
      "execution_count": null,
      "outputs": []
    },
    {
      "cell_type": "markdown",
      "metadata": {
        "id": "C5KMoqIniUpy"
      },
      "source": [
        "Wypisywanie zawartości drzewa."
      ]
    },
    {
      "cell_type": "code",
      "metadata": {
        "id": "pX2Bk5tk4bSl"
      },
      "source": [
        "def print_inorder(tree):\n",
        "  \"\"\"\n",
        "  Wypisanie zawartości drzewa\n",
        "  \"\"\"\n",
        "  if tree['left'] is not None:\n",
        "    print_inorder(tree['left'])\n",
        "  print(\"{v}: {n}\".format(v = tree['val'], n = tree['n']))\n",
        "  if tree['right'] is not None:\n",
        "    print_inorder(tree['right'])\n"
      ],
      "execution_count": null,
      "outputs": []
    },
    {
      "cell_type": "markdown",
      "metadata": {
        "id": "VRGTP-saiviv"
      },
      "source": [
        "### Przykłady działania"
      ]
    },
    {
      "cell_type": "markdown",
      "metadata": {
        "id": "kT1GWOHOjBhp"
      },
      "source": [
        "Prosty test."
      ]
    },
    {
      "cell_type": "code",
      "metadata": {
        "colab": {
          "base_uri": "https://localhost:8080/"
        },
        "id": "J52Nn8fXi3cm",
        "outputId": "fa5cd9b9-6fa1-470e-faa7-efff6550c21a"
      },
      "source": [
        "tree = new_node(7)\n",
        "add_value(tree, 10)\n",
        "add_value(tree, 5)\n",
        "add_value(tree, 7)\n",
        "add_value(tree, 13)\n",
        "add_value(tree, 8)\n",
        "add_value(tree, 9)\n",
        "add_value(tree, 9)\n",
        "add_value(tree, 3)\n",
        "add_value(tree, 6)\n",
        "add_value(tree, 3)\n",
        "print_inorder(tree)"
      ],
      "execution_count": null,
      "outputs": [
        {
          "output_type": "stream",
          "name": "stdout",
          "text": [
            "3: 2\n",
            "5: 1\n",
            "6: 1\n",
            "7: 2\n",
            "8: 1\n",
            "9: 2\n",
            "10: 1\n",
            "13: 1\n"
          ]
        }
      ]
    },
    {
      "cell_type": "markdown",
      "metadata": {
        "id": "bH4J1O_0i1Aq"
      },
      "source": [
        "Losowe."
      ]
    },
    {
      "cell_type": "code",
      "metadata": {
        "colab": {
          "base_uri": "https://localhost:8080/"
        },
        "id": "lRCUm_PZ47PN",
        "outputId": "7d667e3a-fa5e-4e0f-a4b6-9e104e6196ba"
      },
      "source": [
        "tree = new_node(random.randint(1,100))\n",
        "for i in range(1000):\n",
        "  add_value(tree, random.randint(1, 100))\n",
        "print_inorder(tree)"
      ],
      "execution_count": null,
      "outputs": [
        {
          "output_type": "stream",
          "name": "stdout",
          "text": [
            "1: 10\n",
            "2: 10\n",
            "3: 8\n",
            "4: 9\n",
            "5: 12\n",
            "6: 7\n",
            "7: 5\n",
            "8: 8\n",
            "9: 10\n",
            "10: 12\n",
            "11: 11\n",
            "12: 11\n",
            "13: 15\n",
            "14: 14\n",
            "15: 9\n",
            "16: 12\n",
            "17: 9\n",
            "18: 9\n",
            "19: 7\n",
            "20: 6\n",
            "21: 6\n",
            "22: 14\n",
            "23: 13\n",
            "24: 12\n",
            "25: 16\n",
            "26: 10\n",
            "27: 6\n",
            "28: 7\n",
            "29: 8\n",
            "30: 13\n",
            "31: 7\n",
            "32: 11\n",
            "33: 7\n",
            "34: 13\n",
            "35: 15\n",
            "36: 9\n",
            "37: 11\n",
            "38: 15\n",
            "39: 10\n",
            "40: 10\n",
            "41: 9\n",
            "42: 5\n",
            "43: 9\n",
            "44: 10\n",
            "45: 9\n",
            "46: 3\n",
            "47: 11\n",
            "48: 9\n",
            "49: 9\n",
            "50: 12\n",
            "51: 15\n",
            "52: 12\n",
            "53: 14\n",
            "54: 10\n",
            "55: 13\n",
            "56: 14\n",
            "57: 9\n",
            "58: 6\n",
            "59: 10\n",
            "60: 15\n",
            "61: 15\n",
            "62: 9\n",
            "63: 14\n",
            "64: 6\n",
            "65: 10\n",
            "66: 7\n",
            "67: 10\n",
            "68: 7\n",
            "69: 12\n",
            "70: 11\n",
            "71: 11\n",
            "72: 6\n",
            "73: 13\n",
            "74: 9\n",
            "75: 11\n",
            "76: 10\n",
            "77: 10\n",
            "78: 11\n",
            "79: 11\n",
            "80: 5\n",
            "81: 13\n",
            "82: 9\n",
            "83: 12\n",
            "84: 12\n",
            "85: 13\n",
            "86: 12\n",
            "87: 6\n",
            "88: 9\n",
            "89: 13\n",
            "90: 14\n",
            "91: 9\n",
            "92: 8\n",
            "93: 7\n",
            "94: 16\n",
            "95: 9\n",
            "96: 5\n",
            "97: 6\n",
            "98: 10\n",
            "99: 9\n"
          ]
        }
      ]
    }
  ]
}