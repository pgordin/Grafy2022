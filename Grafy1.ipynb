{
  "nbformat": 4,
  "nbformat_minor": 0,
  "metadata": {
    "colab": {
      "provenance": [],
      "authorship_tag": "ABX9TyOAehMAssidwlHmqqpSWJqv",
      "include_colab_link": true
    },
    "kernelspec": {
      "name": "python3",
      "display_name": "Python 3"
    },
    "language_info": {
      "name": "python"
    }
  },
  "cells": [
    {
      "cell_type": "markdown",
      "metadata": {
        "id": "view-in-github",
        "colab_type": "text"
      },
      "source": [
        "<a href=\"https://colab.research.google.com/github/pgordin/Grafy2022/blob/main/Grafy1.ipynb\" target=\"_parent\"><img src=\"https://colab.research.google.com/assets/colab-badge.svg\" alt=\"Open In Colab\"/></a>"
      ]
    },
    {
      "cell_type": "markdown",
      "source": [
        "Importowanie pakietów."
      ],
      "metadata": {
        "id": "CDmdMjS15tGh"
      }
    },
    {
      "cell_type": "code",
      "source": [
        "import numpy as np\n",
        "from random import random, seed"
      ],
      "metadata": {
        "id": "Y3ZZF2M05zEM"
      },
      "execution_count": 1,
      "outputs": []
    },
    {
      "cell_type": "markdown",
      "source": [
        "# Funkcje grafowe"
      ],
      "metadata": {
        "id": "TUcnv2LJ5-vB"
      }
    },
    {
      "cell_type": "code",
      "source": [
        "def print_matrix(vertices, matrix):\n",
        "  \"\"\"\n",
        "  Wypisuje na ekranie graf zadany jako macierz sąsiedztwa.\n",
        "  \"\"\"\n",
        "  n = len(matrix)\n",
        "  if (vertices is not None) and(len(vertices) ==n):\n",
        "    vv = vertices\n",
        "  else:\n",
        "    vv = range(1, n+1)\n",
        "  for i in range(n):\n",
        "    print(vv[i], \":\", end=\"\")\n",
        "    for j in range(n):\n",
        "      if matrix[i,j]:\n",
        "        print(\" \", vv[j], end=\"\")\n",
        "    print(\"\")\n",
        "\n",
        "def print_graph(graph):\n",
        "  \"\"\"\n",
        "  Wypisuje graf zadany jako słownik pythona.\n",
        "  \"\"\"\n",
        "  for v in graph:\n",
        "    print(v, \":\", end=\"\")\n",
        "    for u in graph[v]:\n",
        "      print(\" \", u, end=\"\")\n",
        "    print(\"\")"
      ],
      "metadata": {
        "id": "im902KKt6BVU"
      },
      "execution_count": 9,
      "outputs": []
    },
    {
      "cell_type": "markdown",
      "source": [
        "## Tworzenie grafu (jako listy sąsiedztwa)"
      ],
      "metadata": {
        "id": "2BtyljiWCz6a"
      }
    },
    {
      "cell_type": "code",
      "source": [
        "def add_vertex(graph, vertex):\n",
        "  \"\"\" Nowy wierzchołek do istniejącego grafu. \"\"\"\n",
        "  if vertex not in graph:\n",
        "    graph[vertex] = []\n",
        "\n",
        "def add_arc(graph, arc):\n",
        "  \"\"\"\n",
        "  Dodaje nowy łuk (parę wierzchołków) do istniejącego grafu.\n",
        "  Rozważamy grafy proste, skierowane\n",
        "  \"\"\"\n",
        "  u, v = arc\n",
        "  add_vertex(graph, u)\n",
        "  add_vertex(graph, v)\n",
        "  if v not in graph[u]:\n",
        "    graph[u].append(v)\n",
        "\n",
        "def add_edge(graph, edge):\n",
        "  \"\"\"\n",
        "  Dodaje nową krawędź (parę wierzchołków) do istniejącego grafu,\n",
        "  traktując graf nieskierowany jako prosty graf skierowny, ale symetryczny i bez pętli.\n",
        "  \"\"\"\n",
        "  u, v = edge\n",
        "  add_vertex(graph, u)\n",
        "  add_vertex(graph, v)\n",
        "  if u == v:\n",
        "    raise ValueError(\"Pętla!\")\n",
        "  if v not in graph[u]:\n",
        "    graph[u].append(v)\n",
        "  if u not in graph[v]:\n",
        "    graph[v].append(u)\n"
      ],
      "metadata": {
        "id": "_Ms1szoVC6h3"
      },
      "execution_count": 16,
      "outputs": []
    },
    {
      "cell_type": "markdown",
      "source": [],
      "metadata": {
        "id": "GniU7Y11IExQ"
      }
    },
    {
      "cell_type": "markdown",
      "source": [
        "# Przykłady wykorzystania"
      ],
      "metadata": {
        "id": "Hzc2DKne8d-q"
      }
    },
    {
      "cell_type": "markdown",
      "source": [
        "## Pierwszy, przykładowy graf\n"
      ],
      "metadata": {
        "id": "LW-jxanS8nXE"
      }
    },
    {
      "cell_type": "markdown",
      "source": [
        "### Macierz sąsiedztwa"
      ],
      "metadata": {
        "id": "NWrM0OkZ_c40"
      }
    },
    {
      "cell_type": "code",
      "source": [
        "vertices = [\"a\", \"b\", \"c\", \"d\", \"e\", \"f\"]\n",
        "matrix = np.array([[0,1,1,0,0,0],\n",
        "                   [1,0,1,0,0,0],\n",
        "                   [1,1,0,1,1,0],\n",
        "                   [0,0,1,0,1,0],\n",
        "                   [0,0,1,1,0,0],\n",
        "                   [0,0,0,0,0,0]])\n",
        "print(vertices)\n",
        "print(matrix)\n",
        "print(\"--------------------------\")\n",
        "print_matrix(vertices, matrix)\n",
        "print(\"--------------------------\")\n",
        "print_matrix(None, matrix)"
      ],
      "metadata": {
        "colab": {
          "base_uri": "https://localhost:8080/"
        },
        "id": "LDoton2h8hk2",
        "outputId": "d97e84a6-ff8c-4506-8f4a-a15a3adf5804"
      },
      "execution_count": 4,
      "outputs": [
        {
          "output_type": "stream",
          "name": "stdout",
          "text": [
            "['a', 'b', 'c', 'd', 'e', 'f']\n",
            "[[0 1 1 0 0 0]\n",
            " [1 0 1 0 0 0]\n",
            " [1 1 0 1 1 0]\n",
            " [0 0 1 0 1 0]\n",
            " [0 0 1 1 0 0]\n",
            " [0 0 0 0 0 0]]\n",
            "--------------------------\n",
            "a :  b  c\n",
            "b :  a  c\n",
            "c :  a  b  d  e\n",
            "d :  c  e\n",
            "e :  c  d\n",
            "f :\n",
            "--------------------------\n",
            "1 :  2  3\n",
            "2 :  1  3\n",
            "3 :  1  2  4  5\n",
            "4 :  3  5\n",
            "5 :  3  4\n",
            "6 :\n"
          ]
        }
      ]
    },
    {
      "cell_type": "markdown",
      "source": [
        "### Lista sąsiedztwa"
      ],
      "metadata": {
        "id": "CJWB1vy4_g57"
      }
    },
    {
      "cell_type": "code",
      "source": [
        "graph = {\n",
        "    'a' : ['b',  'c'],\n",
        "    'b' : ['a',  'c'],\n",
        "    'c' : ['a', 'b', 'd', 'e'],\n",
        "    'd' : ['c', 'e'],\n",
        "    'e' : ['c', 'd'],\n",
        "    'f' : []\n",
        "}\n",
        "print(graph)\n",
        "print(\"--------------------------\")\n",
        "print_graph(graph)"
      ],
      "metadata": {
        "colab": {
          "base_uri": "https://localhost:8080/"
        },
        "id": "DroNa2MV_i6l",
        "outputId": "d7a491a0-cf6e-446c-eb4a-8fbc8028abaa"
      },
      "execution_count": 10,
      "outputs": [
        {
          "output_type": "stream",
          "name": "stdout",
          "text": [
            "{'a': ['b', 'c'], 'b': ['a', 'c'], 'c': ['a', 'b', 'd', 'e'], 'd': ['c', 'e'], 'e': ['c', 'd'], 'f': []}\n",
            "--------------------------\n",
            "a :  b  c\n",
            "b :  a  c\n",
            "c :  a  b  d  e\n",
            "d :  c  e\n",
            "e :  c  d\n",
            "f :\n"
          ]
        }
      ]
    },
    {
      "cell_type": "markdown",
      "source": [
        "### Modyfikacje grafu"
      ],
      "metadata": {
        "id": "vSWC46qSESXp"
      }
    },
    {
      "cell_type": "code",
      "source": [
        "add_vertex(graph, 'g')\n",
        "add_arc(graph, ['a', 'g'])\n",
        "add_arc(graph, ['g', 'a'])\n",
        "add_edge(graph, ['a', 'h'])\n",
        "add_edge(graph, ['d', 'h'])\n",
        "#błąd add_edge(graph, ['h', 'h'])\n",
        "add_arc(graph, ['h', 'h'])\n",
        "print_graph(graph)"
      ],
      "metadata": {
        "colab": {
          "base_uri": "https://localhost:8080/"
        },
        "id": "nVmADw1UEUmN",
        "outputId": "6f5f3521-3136-4b95-cd85-73ddbf82c9c4"
      },
      "execution_count": 20,
      "outputs": [
        {
          "output_type": "stream",
          "name": "stdout",
          "text": [
            "a :  b  c  g  h\n",
            "b :  a  c\n",
            "c :  a  b  d  e\n",
            "d :  c  e  h\n",
            "e :  c  d\n",
            "f :\n",
            "g :  a\n",
            "h :  a  d  h\n"
          ]
        }
      ]
    },
    {
      "cell_type": "markdown",
      "source": [
        "### Tworzenie grafów losowych $G(n, p)$."
      ],
      "metadata": {
        "id": "pDquwVscIS5n"
      }
    },
    {
      "cell_type": "code",
      "source": [
        "# dla powtarzalności wyników\n",
        "seed(2022)"
      ],
      "metadata": {
        "id": "3U39TkHJITen"
      },
      "execution_count": 21,
      "outputs": []
    },
    {
      "cell_type": "code",
      "source": [
        "# losuje grapf G(10, 1/3)\n",
        "n = 10\n",
        "p = 1/3\n",
        "random_graph={}\n",
        "for i in range(1, n+1):\n",
        "  add_vertex(random_graph, i)\n",
        "  for j in range(1, i):\n",
        "    if random() < p:\n",
        "      add_edge(random_graph, [i,j])\n",
        "\n",
        "print_graph(random_graph)"
      ],
      "metadata": {
        "colab": {
          "base_uri": "https://localhost:8080/"
        },
        "id": "tjVixUIoIaYV",
        "outputId": "44bbdc7f-13ac-4e7f-985d-458d98aab670"
      },
      "execution_count": 23,
      "outputs": [
        {
          "output_type": "stream",
          "name": "stdout",
          "text": [
            "1 :  4  7  9\n",
            "2 :  3  6  8  9\n",
            "3 :  2  7  9  10\n",
            "4 :  1\n",
            "5 :  8\n",
            "6 :  2  8  9  10\n",
            "7 :  1  3  9\n",
            "8 :  2  5  6\n",
            "9 :  1  2  3  6  7\n",
            "10 :  3  6\n"
          ]
        }
      ]
    }
  ]
}