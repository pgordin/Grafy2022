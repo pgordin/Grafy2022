{
  "cells": [
    {
      "cell_type": "markdown",
      "metadata": {
        "id": "view-in-github",
        "colab_type": "text"
      },
      "source": [
        "<a href=\"https://colab.research.google.com/github/pgordin/Grafy2022/blob/main/Grafy3.ipynb\" target=\"_parent\"><img src=\"https://colab.research.google.com/assets/colab-badge.svg\" alt=\"Open In Colab\"/></a>"
      ]
    },
    {
      "cell_type": "markdown",
      "metadata": {
        "id": "OJRjLvEwAeB5"
      },
      "source": [
        "Importowanie pakietów"
      ]
    },
    {
      "cell_type": "code",
      "execution_count": 1,
      "metadata": {
        "id": "9aTB1DniAHzp"
      },
      "outputs": [],
      "source": [
        "import numpy as np\n",
        "from random import random, seed"
      ]
    },
    {
      "cell_type": "markdown",
      "metadata": {
        "id": "ZkoGBbUqAht_"
      },
      "source": [
        "# Funkcje grafowe"
      ]
    },
    {
      "cell_type": "code",
      "execution_count": 2,
      "metadata": {
        "id": "vztYHcp6Akqq"
      },
      "outputs": [],
      "source": [
        "def print_matrix(vertices, matrix):\n",
        "  \"\"\"\n",
        "  Wypisuje na ekreanie graf zadany jako macierz sąsiedztwa\n",
        "  \"\"\"\n",
        "  n = len(matrix)\n",
        "  if (vertices is not None) and (len(vertices) == n):\n",
        "    vv = vertices\n",
        "  else:\n",
        "    vv = range(1, n+1)\n",
        "  for i in range(n):\n",
        "    print(vv[i], \":\", end=\"\")\n",
        "    for j in range(n):\n",
        "      if matrix[i,j]:\n",
        "        print(\" \", vv[j], end=\"\")\n",
        "    print(\"\")"
      ]
    },
    {
      "cell_type": "code",
      "execution_count": 3,
      "metadata": {
        "id": "6I-d23OeAl3k"
      },
      "outputs": [],
      "source": [
        "def print_graph(graph):\n",
        "  \"\"\"\n",
        "  Wypisuje graf zadany jako słownik pythona\n",
        "  \"\"\"\n",
        "  for v in graph:\n",
        "    print(v, \":\", end=\"\")\n",
        "    for u in graph[v]:\n",
        "      print(\" \", u, end=\"\")\n",
        "    print(\"\")\n",
        "    "
      ]
    },
    {
      "cell_type": "markdown",
      "metadata": {
        "id": "gjJARTpHGicG"
      },
      "source": [
        "## Tworzenie grafu (jako listy sąsiedztwa)"
      ]
    },
    {
      "cell_type": "code",
      "execution_count": 4,
      "metadata": {
        "id": "7aPBYtzrGmP8"
      },
      "outputs": [],
      "source": [
        "def add_vertex(graph, vertex):\n",
        "    \"\"\"Nowy wierzchołek do istniejącego grafu\"\"\"\n",
        "    if vertex not in graph:\n",
        "        graph[vertex] = []\n",
        "\n",
        "\n",
        "def add_arc(graph, arc):\n",
        "    \"\"\"Dodaje nowy łuk (parę wierzchołków) do istniejącego grafu\n",
        "       rozważamy grafy proste, skierowane\n",
        "    \"\"\"\n",
        "    u, v = arc\n",
        "    add_vertex(graph, u)\n",
        "    add_vertex(graph, v)\n",
        "    if v not in graph[u]:\n",
        "        graph[u].append(v)\n",
        "\n",
        "\n",
        "def add_edge(graph, edge):\n",
        "    \"\"\"Dodaje nową krawędź (parę wierzchołków) do istniejącego grafu\n",
        "       traktując graf nieskierowany prosty jako prosty graf skierowany, ale symetryczny i bez pętli\n",
        "    \"\"\"\n",
        "    u, v = edge\n",
        "    add_vertex(graph, u)\n",
        "    add_vertex(graph, v)\n",
        "    if u == v:\n",
        "        raise ValueError(\"pętla!\")\n",
        "    if v not in graph[u]:\n",
        "        graph[u].append(v)\n",
        "    if u not in graph[v]:\n",
        "        graph[v].append(u)"
      ]
    },
    {
      "cell_type": "code",
      "execution_count": 5,
      "metadata": {
        "id": "P6j7TISj3kYP"
      },
      "outputs": [],
      "source": [
        "def random_graph(n, p):\n",
        "    \"\"\"Tworzy graf losowy w modelu G(n, p) - graf nieskierowany, n wierzchołków, każda para połączona krawędzią\n",
        "    niezależnie, z prawdopodobieństwem p\"\"\"\n",
        "    random_graph = {}\n",
        "    for i in range(1,n+1):\n",
        "        add_vertex(random_graph, i)\n",
        "    for i in range(1, n):\n",
        "        for j in range(i+1,n+1):\n",
        "            if random() <= p:\n",
        "                add_edge(random_graph, (i,j))\n",
        "    return random_graph"
      ]
    },
    {
      "cell_type": "code",
      "execution_count": 6,
      "metadata": {
        "id": "AQ78qYNs4MiP"
      },
      "outputs": [],
      "source": [
        "def graph_to_matrix(graph):\n",
        "    \"\"\"\n",
        "     Konwertuje graf - listę sąsiedztwa na macierz (n^2)\n",
        "    \"\"\"\n",
        "    vertices = list(graph.keys())\n",
        "    index = {}\n",
        "    i = 0\n",
        "    for v in graph:\n",
        "        index[v] = i\n",
        "        i += 1\n",
        "    matrix = np.zeros((len(vertices), len(vertices)))\n",
        "    for v in graph:\n",
        "        for u in graph[v]:\n",
        "            matrix[index[v], index[u]] = 1\n",
        "    return [vertices, matrix]\n",
        "\n",
        "\n",
        "\n",
        "def matrix_to_graph(vertices, matrix):\n",
        "  \"\"\"\n",
        "  Funkcja przekształcająca macierz sąsiedztwa na graf w formie listy sąsiedztwa\n",
        "  \"\"\"\n",
        "  n = len(matrix)\n",
        "  if (vertices is not None) and (len(vertices) == n):\n",
        "    vv = vertices\n",
        "  else:\n",
        "    vv = range(1, n+1)\n",
        "  graph = {}\n",
        "  for i in range(n):\n",
        "    edges = []\n",
        "    for j in range(n):\n",
        "      if matrix[i][j]:\n",
        "        edges.append(vv[j])\n",
        "    graph[vv[i]] = edges\n",
        "  return graph\n"
      ]
    },
    {
      "cell_type": "markdown",
      "metadata": {
        "id": "y8rQ94vg3IYv"
      },
      "source": [
        "## Wczytywanie grafów z plików i zapis do plików"
      ]
    },
    {
      "cell_type": "code",
      "execution_count": 7,
      "metadata": {
        "id": "tpYxiN2VAJxJ"
      },
      "outputs": [],
      "source": [
        "def graph_from_edges(filename, directed = 0):\n",
        "  \"\"\"\n",
        "  Wczytuje graf z pliku tekstowego, który w każdej linii zawiera opis jednej krawędzi (pary słów),\n",
        "  ewentualnie jednego wierzchołka (pojedyncze słowo). Jako wynik zwraca graf w formie listy sąsiedztwa\n",
        "  Plik musi być w bierzącym katalogu lub filename zawierać całą ścieżkę do pliku.\n",
        "  \"\"\"\n",
        "  graph = {}\n",
        "  file = open(filename, \"r\")  # otwarcie pliku do odczytu\n",
        "  for line in file:           # dla każdej linii w pliku\n",
        "    words = line.split()      # rozbijam linię na słowa\n",
        "    if len(words) == 1:       # jedno słowo - wierzchołek\n",
        "      add_vertex(graph, words[0])\n",
        "    elif len(words) >= 2:     # więcej słów - używam dwóch pierwszych\n",
        "      if directed:\n",
        "        add_arc(graph, (words[0], words[1]))\n",
        "      else:\n",
        "        add_edge(graph, (words[0], words[1]))\n",
        "  file.close()\n",
        "  return graph"
      ]
    },
    {
      "cell_type": "code",
      "execution_count": 8,
      "metadata": {
        "id": "Nllv6ari3wfj"
      },
      "outputs": [],
      "source": [
        "def graph_to_neighbourslist(graph, filename):\n",
        "    \"\"\"\n",
        "    Zapisuje graf jako listę sąsiedztwa w pliku tekstowym filename\n",
        "    \"\"\"\n",
        "    file = open(filename, \"w\")\n",
        "    for v in graph:\n",
        "        neigh_list = \"{}:\".format(v)    #używamy format do budowy napisu - listy sąsiadów na razie postaci 'v:'\n",
        "        for u in graph[v]:\n",
        "            neigh_list = neigh_list + \" {}\".format(u) #dołączamy u na koniec napisu listy sąsiadów\n",
        "        neigh_list = neigh_list + '\\n'  #koniec wiersza\n",
        "        file.write(neigh_list)          #zapisujemy wiersz do pliku\n",
        "    file.close()"
      ]
    },
    {
      "cell_type": "code",
      "source": [
        "def graph_from_neighbourlist(filename, directed = 0):\n",
        "  \"\"\"\n",
        "  Wczytuje plik tekstowy i tworzy graf podany w formie listy sąsiedztwa w pliku tekstowym\n",
        "  \"\"\"\n",
        "  graph = {}\n",
        "  file = open(filename, \"r\")  #odczytanie danych z pliku\n",
        "\n",
        "  for line in file:\n",
        "    lista = []\n",
        "    v, li = line.split(\":\")\n",
        "    lista = li.split()\n",
        "    for vert in v:\n",
        "      add_vertex(graph, vert)\n",
        "    if len(lista) > 0:\n",
        "      if directed:\n",
        "        for edge in lista:\n",
        "          add_arc(graph, (vert, edge))\n",
        "      else:\n",
        "        for edge in lista:\n",
        "          add_edge(graph, (vert, edge))\n",
        "    else:\n",
        "        pass\n",
        "  file.close()\n",
        "  return dict(sorted(graph.items())) # dict(sorted(nazwa.items())) sprawia, że graf uporządkowany jest według wierzchołków"
      ],
      "metadata": {
        "id": "BnQwYJsCBUHd"
      },
      "execution_count": 10,
      "outputs": []
    },
    {
      "cell_type": "code",
      "source": [
        "def graph_to_edges(graph, filename, directed = 0):\n",
        "  \"\"\"\n",
        "  Zapisuje do pliku .txt o nazwie filename graf w formie listy krawędzi\n",
        "  \"\"\"\n",
        "  file = open(filename + \".txt\", \"w\") #otwarcie pliku do zapisu\n",
        "\n",
        "  for v in graph:\n",
        "    if len(graph[v]) != 0:\n",
        "      for u in graph[v]:\n",
        "        if directed or u < v:\n",
        "          line = \"{} {}\".format(v, u) # dołączamy ' u' na koniec napisu\n",
        "          line += \"\\n\"      #koniec wiersza\n",
        "          file.write(line)  #zapisujemy wiersz do pliku\n",
        "          line = \"\"\n",
        "    else:\n",
        "      line = F\"{v}\\n\" # dodaje tylko wierzcho\n",
        "      file.write(line)\n",
        "      line = \"\"\n",
        "  file.close()"
      ],
      "metadata": {
        "colab": {
          "base_uri": "https://localhost:8080/",
          "height": 133
        },
        "id": "ymf4_fCACX3x",
        "outputId": "ab08393f-e1a0-4314-c50e-27c62dd861a2"
      },
      "execution_count": 26,
      "outputs": [
        {
          "output_type": "error",
          "ename": "SyntaxError",
          "evalue": "ignored",
          "traceback": [
            "\u001b[0;36m  File \u001b[0;32m\"<ipython-input-26-3e92f4c91683>\"\u001b[0;36m, line \u001b[0;32m7\u001b[0m\n\u001b[0;31m    for v in graph:\u001b[0m\n\u001b[0m                 ^\u001b[0m\n\u001b[0;31mSyntaxError\u001b[0m\u001b[0;31m:\u001b[0m invalid character in identifier\n"
          ]
        }
      ]
    },
    {
      "cell_type": "markdown",
      "metadata": {
        "id": "GZOu1PhdKdSC"
      },
      "source": [
        "## Kod Prüfera"
      ]
    },
    {
      "cell_type": "code",
      "execution_count": 29,
      "metadata": {
        "id": "eC8orOJtIBrq"
      },
      "outputs": [],
      "source": [
        "from copy import deepcopy\n",
        "\n",
        "def Prufer(tree):\n",
        "  \"\"\"\n",
        "  Kod Prufera drzewa - podany jako napis\n",
        "  \"\"\"\n",
        "  tr = deepcopy(tree)   # będziemy psuć drzewo\n",
        "  code = \"\"\n",
        "  for i in range(len(tree) - 2):\n",
        "    for x in sorted(tr):  # po kolei przeglądam wierzchołki - od najmniejszego\n",
        "      if len(tr[x]) == 1: # liść - pierwszy - najmniejszy\n",
        "        break\n",
        "    v = tr[x][0]          # sąsiad najmniejszego liścia\n",
        "    code = code + \" {}\".format(v)\n",
        "    tr[v].remove(x)       # usuwam x z listy sąsiadów v\n",
        "    tr.pop(x)             # usuwam x z drzewa\n",
        "  return code\n",
        "\n",
        "\n",
        "def TreeFromPrufer(code):\n",
        "  \"\"\"\n",
        "  Tworzenie drzewa z kodu Prufera - kod jest napisem, drzewo - grafem w formie listy sąsiadów  \n",
        "  \"\"\"\n",
        "  clist = [int(x) for x in code.split()]  # kod zamieniony na listę liczb\n",
        "  n = len(clist) + 2                  # liczba wierzchołków\n",
        "  vert = [v for v in range(1, n+1)]   # lista liczb od 1 do n\n",
        "  tree = {}\n",
        "  for v in vert:\n",
        "    add_vertex(tree, v)\n",
        "  for i in range(n-2):    \n",
        "    for x in vert:  \n",
        "      if x not in clist:    # x - najmniejszy liść na tym etapie\n",
        "        break             \n",
        "    v = clist.pop(0)    # usuwam pierwszy element listy - sąsiad x   \n",
        "    add_edge(tree, (x, v))\n",
        "    vert.remove(x)\n",
        "  add_edge(tree, (vert[0], vert[1]))\n",
        "  return tree"
      ]
    },
    {
      "cell_type": "markdown",
      "source": [
        "# Przechodzenie drzew"
      ],
      "metadata": {
        "id": "WZHEBGUDC6qt"
      }
    },
    {
      "cell_type": "code",
      "source": [
        "def preorder(tree, v, parent=None):\n",
        "  print(v)\n",
        "  for u in tree[v]:\n",
        "    if u != parent:\n",
        "      preorder(tree, u, v)\n",
        "\n",
        "def postorder(tree, v, parent=None):\n",
        "  for u in tree[v]:\n",
        "    if u != parent:\n",
        "      postorder(tree, u, v)\n",
        "  print(v)"
      ],
      "metadata": {
        "id": "YLwYOq7eC-0d"
      },
      "execution_count": 36,
      "outputs": []
    },
    {
      "cell_type": "markdown",
      "source": [
        "# Przechodzenie grafów - wybrane zastosowania"
      ],
      "metadata": {
        "id": "ILkFVemcJ44j"
      }
    },
    {
      "cell_type": "markdown",
      "source": [
        "## Spójne składowe"
      ],
      "metadata": {
        "id": "wu24FUdlKA9q"
      }
    },
    {
      "cell_type": "code",
      "source": [
        "def ConnectedComponents(graph):\n",
        "  \"\"\"\n",
        "  Znajduje spójne skłądowe w grafie nieskierowanym\n",
        "  Jako wynik zwraca listę zbiorów wierzchołków\n",
        "  Uwaga: pierwszymelementem zwracanej listy jest zbiór wszystkich wierzhołków grafu\n",
        "  \"\"\"\n",
        "  def DFS(v):\n",
        "    \"\"\"\n",
        "    Przeszukiwanie grafu w głąb\n",
        "    \"\"\"\n",
        "    for u in graph[v]:\n",
        "      if not u in VT[0]:  # u - jeszcze nieodwiedzony\n",
        "        VT[0].add(u)      # u - już odwiedzony\n",
        "        VT[-1].add(u)     # u - w ostatniej spójnej składowej\n",
        "        DFS(u)\n",
        "  \n",
        "  \"\"\"\n",
        "  VT - lista zbiorów VT[i] dla i > 0 zbiór elementów i-tej spójnej składowej\n",
        "  VT[0] = union_{i > 0} VT[i] - docelowo zbiór wszystkich wierzchołków grafu\n",
        "  \"\"\"\n",
        "  VT = [set([])]\n",
        "  for v in graph:\n",
        "    if not v in VT[0]:\n",
        "      VT[0].add(v)\n",
        "      VT.append(set([v])) # zaczątek nowej, spójnej skłądowej\n",
        "      DFS(v)\n",
        "  return VT"
      ],
      "metadata": {
        "id": "3-1n0msxKFXe"
      },
      "execution_count": 39,
      "outputs": []
    },
    {
      "cell_type": "markdown",
      "source": [
        "## BFS do pomiaru odległości"
      ],
      "metadata": {
        "id": "a8PIhyh5QJOH"
      }
    },
    {
      "cell_type": "code",
      "source": [
        "def Distance(graph, v):\n",
        "  \"\"\"\n",
        "  Znajduje i zwraca jako wynik wektor (słownik) odległości od wierzchołka v\n",
        "  do wierzchołków w tej samej spójnej skłądowej co v.\n",
        "  \"\"\"\n",
        "  dist = {v:0}  # zalążek słownika odległości\n",
        "  kolejka = [v]\n",
        "  while (len(kolejka) > 0):\n",
        "    u = kolejka.pop(0)\n",
        "    for w in graph[u]:\n",
        "      if not w in dist:\n",
        "        dist[w] = dist[u] + 1\n",
        "        kolejka.append(w)\n",
        "  return dist"
      ],
      "metadata": {
        "id": "EiKQ0fToQMs1"
      },
      "execution_count": 47,
      "outputs": []
    },
    {
      "cell_type": "markdown",
      "metadata": {
        "id": "OiI7teFOAmQq"
      },
      "source": [
        "# Wykorzystanie kodu"
      ]
    },
    {
      "cell_type": "markdown",
      "source": [
        "## Kody Prufera + preorder/postorder"
      ],
      "metadata": {
        "id": "0rM_aMnKGLrr"
      }
    },
    {
      "cell_type": "code",
      "source": [
        "tree = TreeFromPrufer(\"2 3 1 4 1 2 1 2 1 3\")\n",
        "preorder(tree, 1)\n",
        "print(\"-------------------------\")\n",
        "postorder(tree, 1)"
      ],
      "metadata": {
        "colab": {
          "base_uri": "https://localhost:8080/"
        },
        "id": "Ac8uoopmGQ89",
        "outputId": "ba6b4191-9891-4aab-a844-d606686069d3"
      },
      "execution_count": 37,
      "outputs": [
        {
          "output_type": "stream",
          "name": "stdout",
          "text": [
            "1\n",
            "7\n",
            "4\n",
            "8\n",
            "10\n",
            "2\n",
            "5\n",
            "9\n",
            "11\n",
            "3\n",
            "6\n",
            "12\n",
            "-------------------------\n",
            "7\n",
            "8\n",
            "4\n",
            "10\n",
            "5\n",
            "9\n",
            "11\n",
            "2\n",
            "6\n",
            "12\n",
            "3\n",
            "1\n"
          ]
        }
      ]
    },
    {
      "cell_type": "markdown",
      "metadata": {
        "id": "sB9Y0pl1EwAn"
      },
      "source": [
        "## Wczytanie pliku z listy krawędzi"
      ]
    },
    {
      "cell_type": "markdown",
      "metadata": {
        "id": "ZDiAnfGDE1cu"
      },
      "source": [
        "Na początek utwórzmy taki plik."
      ]
    },
    {
      "cell_type": "code",
      "execution_count": null,
      "metadata": {
        "colab": {
          "base_uri": "https://localhost:8080/"
        },
        "id": "Rz9ArAAqE4vu",
        "outputId": "5823870e-913d-4ec7-c4c7-c250ee8872d6"
      },
      "outputs": [
        {
          "name": "stdout",
          "output_type": "stream",
          "text": [
            "Overwriting lista.txt\n"
          ]
        }
      ],
      "source": [
        "%%writefile lista.txt\n",
        "A B\n",
        "B C\n",
        "B D\n",
        "D C\n",
        "E\n",
        "F\n"
      ]
    },
    {
      "cell_type": "code",
      "execution_count": null,
      "metadata": {
        "colab": {
          "base_uri": "https://localhost:8080/"
        },
        "id": "u58KJmQpFJYn",
        "outputId": "c5ac81fc-7461-4502-b1ef-96128267f1ff"
      },
      "outputs": [
        {
          "name": "stdout",
          "output_type": "stream",
          "text": [
            "A B\n",
            "B C\n",
            "B D\n",
            "D C\n",
            "E\n",
            "F"
          ]
        }
      ],
      "source": [
        "%cat lista.txt"
      ]
    },
    {
      "cell_type": "code",
      "execution_count": null,
      "metadata": {
        "colab": {
          "base_uri": "https://localhost:8080/"
        },
        "id": "RGf3JNqUGBDW",
        "outputId": "e514d383-8c54-49ca-d3e4-f87b5c043a73"
      },
      "outputs": [
        {
          "name": "stdout",
          "output_type": "stream",
          "text": [
            "A :  B\n",
            "B :  A  C  D\n",
            "C :  B  D\n",
            "D :  B  C\n",
            "E :\n",
            "F :\n"
          ]
        }
      ],
      "source": [
        "graph1 = graph_from_edges(\"lista.txt\")\n",
        "print_graph(graph1)"
      ]
    },
    {
      "cell_type": "code",
      "execution_count": null,
      "metadata": {
        "colab": {
          "base_uri": "https://localhost:8080/"
        },
        "id": "6y-a_hfhGpaQ",
        "outputId": "b6202090-6300-4f17-8b9a-675d0987d3aa"
      },
      "outputs": [
        {
          "name": "stdout",
          "output_type": "stream",
          "text": [
            "slipki :  kalesony\n",
            "kalesony :  spodnie\n",
            "spodnie :  buty  szelki\n",
            "buty :\n",
            "szelki :  marynarka\n",
            "skarpety :  buty\n",
            "koszula :  szelki  marynarka  krawat\n",
            "marynarka :  plaszcz\n",
            "krawat :  marynarka\n",
            "plaszcz :\n"
          ]
        }
      ],
      "source": [
        "graph2 = graph_from_edges(\"ubranie.txt\", directed=1)\n",
        "print_graph(graph2)"
      ]
    },
    {
      "cell_type": "markdown",
      "metadata": {
        "id": "rxL3CzEVK5Mk"
      },
      "source": [
        "## Kody Prüfera"
      ]
    },
    {
      "cell_type": "code",
      "execution_count": null,
      "metadata": {
        "colab": {
          "base_uri": "https://localhost:8080/"
        },
        "id": "A6-i7eGAK8Lt",
        "outputId": "17ff54d5-9ba3-4634-84cb-068533f23807"
      },
      "outputs": [
        {
          "name": "stdout",
          "output_type": "stream",
          "text": [
            "1 :  2  3\n",
            "2 :  1\n",
            "3 :  1  4  5\n",
            "4 :  3\n",
            "5 :  3\n",
            "------------------------\n",
            " 1 3 3\n",
            "------------------------\n",
            "1 :  2  3\n",
            "2 :  1\n",
            "3 :  1  4  5\n",
            "4 :  3\n",
            "5 :  3\n",
            "------------------------\n",
            " 1 3 3\n"
          ]
        }
      ],
      "source": [
        "tree = {}\n",
        "add_edge(tree, (1, 2))\n",
        "add_edge(tree, (1, 3))\n",
        "add_edge(tree, (3, 4))\n",
        "add_edge(tree, (3, 5))\n",
        "\n",
        "print_graph(tree)\n",
        "print(\"------------------------\")\n",
        "print(Prufer(tree))\n",
        "print(\"------------------------\")\n",
        "print_graph(tree)\n",
        "print(\"------------------------\")\n",
        "print(Prufer(tree))"
      ]
    },
    {
      "cell_type": "code",
      "execution_count": null,
      "metadata": {
        "colab": {
          "base_uri": "https://localhost:8080/"
        },
        "id": "URpJ0hnHQpoa",
        "outputId": "9576f4f4-1b4d-41c6-d255-e72356634fb5"
      },
      "outputs": [
        {
          "name": "stdout",
          "output_type": "stream",
          "text": [
            "1 :  2  3\n",
            "2 :  1\n",
            "3 :  1  4  5\n",
            "4 :  3\n",
            "5 :  3\n"
          ]
        }
      ],
      "source": [
        "print_graph(TreeFromPrufer(\"1 3 3\"))"
      ]
    },
    {
      "cell_type": "code",
      "execution_count": null,
      "metadata": {
        "colab": {
          "base_uri": "https://localhost:8080/"
        },
        "id": "DGWY89xLQ_ni",
        "outputId": "7894be44-1966-4734-f4e7-72775b1d7253"
      },
      "outputs": [
        {
          "name": "stdout",
          "output_type": "stream",
          "text": [
            "1 :  2  3  4  5  6  7  8  9  10  11  12\n",
            "2 :  1\n",
            "3 :  1\n",
            "4 :  1\n",
            "5 :  1\n",
            "6 :  1\n",
            "7 :  1\n",
            "8 :  1\n",
            "9 :  1\n",
            "10 :  1\n",
            "11 :  1\n",
            "12 :  1\n"
          ]
        }
      ],
      "source": [
        "print_graph(TreeFromPrufer(\"1 1 1 1 1 1 1 1 1 1\"))"
      ]
    },
    {
      "cell_type": "markdown",
      "metadata": {
        "id": "0cl-3iJM8xJn"
      },
      "source": [
        "## Poprzednia praca domowa - test"
      ]
    },
    {
      "cell_type": "code",
      "execution_count": null,
      "metadata": {
        "colab": {
          "base_uri": "https://localhost:8080/"
        },
        "id": "m3pJaAmT8RMB",
        "outputId": "36b0202b-ce8b-4471-8b5d-fd9a565f52a8"
      },
      "outputs": [
        {
          "name": "stdout",
          "output_type": "stream",
          "text": [
            "['a', 'b', 'c', 'd', 'e']\n",
            "[[0 1 1 0 0]\n",
            " [0 0 1 0 0]\n",
            " [0 0 0 1 1]\n",
            " [0 0 0 0 1]\n",
            " [0 0 0 0 0]]\n",
            "a :  b  c\n",
            "b :  c\n",
            "c :  d  e\n",
            "d :  e\n",
            "e :\n",
            "1 :  2  3\n",
            "2 :  3\n",
            "3 :  4  5\n",
            "4 :  5\n",
            "5 :\n",
            "a :  b  c\n",
            "b :  c\n",
            "c :  d  e\n",
            "d :  e\n",
            "e :\n",
            "----------------------\n",
            "1 :  2  3\n",
            "2 :  3\n",
            "3 :  4  5\n",
            "4 :  5\n",
            "5 :\n",
            "----------------------\n",
            "1 :\n",
            "2 :  3  6  7\n",
            "3 :  2  7  9\n",
            "4 :  6  8\n",
            "5 :  6  8  9\n",
            "6 :  2  4  5  8  10\n",
            "7 :  2  3  8  9\n",
            "8 :  4  5  6  7  10\n",
            "9 :  3  5  7  10\n",
            "10 :  6  8  9\n",
            "----------------------\n",
            "1 :\n",
            "2 :  3  6  7\n",
            "3 :  2  7  9\n",
            "4 :  6  8\n",
            "5 :  6  8  9\n",
            "6 :  2  4  5  8  10\n",
            "7 :  2  3  8  9\n",
            "8 :  4  5  6  7  10\n",
            "9 :  3  5  7  10\n",
            "10 :  6  8  9\n"
          ]
        }
      ],
      "source": [
        "vertices = [\"a\", \"b\", \"c\", \"d\", \"e\"]\n",
        "matrix = np.array([[0,1,1,0,0], [0,0,1,0,0], [0,0,0,1,1], [0,0,0,0,1], [0,0,0,0,0]])\n",
        "print(vertices)\n",
        "print(matrix)\n",
        "print_matrix(vertices, matrix)\n",
        "print_matrix(None, matrix)\n",
        "\n",
        "graph1 = matrix_to_graph(vertices, matrix)\n",
        "graph2 = matrix_to_graph(None, matrix)\n",
        "print_graph(graph1)\n",
        "print(\"----------------------\")\n",
        "print_graph(graph2)\n",
        "print(\"----------------------\")\n",
        "graph3 = random_graph(10, 1/3)\n",
        "print_graph(graph3)\n",
        "print(\"----------------------\")\n",
        "matrix3 = graph_to_matrix(graph3)[1]\n",
        "print_matrix(None, matrix3)"
      ]
    },
    {
      "cell_type": "markdown",
      "source": [
        "## Przesukiwanie grafów"
      ],
      "metadata": {
        "id": "4raZcycTN-gN"
      }
    },
    {
      "cell_type": "code",
      "source": [
        "graph1 = random_graph(20, 1/7)\n",
        "print_graph(graph1)\n",
        "print(\"------------------\")\n",
        "print(ConnectedComponents(graph1))"
      ],
      "metadata": {
        "colab": {
          "base_uri": "https://localhost:8080/"
        },
        "id": "A4yDv_VTOBtZ",
        "outputId": "df1154f6-c442-41e0-df79-c4e282e4b47b"
      },
      "execution_count": 46,
      "outputs": [
        {
          "output_type": "stream",
          "name": "stdout",
          "text": [
            "1 :  6  7  10  16\n",
            "2 :  10  18  19\n",
            "3 :  4  8\n",
            "4 :  3  7  11  20\n",
            "5 :  10  12\n",
            "6 :  1  8  17  18\n",
            "7 :  1  4  16\n",
            "8 :  3  6  11  15\n",
            "9 :  10\n",
            "10 :  1  2  5  9  12  15  18\n",
            "11 :  4  8\n",
            "12 :  5  10\n",
            "13 :  14\n",
            "14 :  13\n",
            "15 :  8  10  18\n",
            "16 :  1  7\n",
            "17 :  6\n",
            "18 :  2  6  10  15\n",
            "19 :  2\n",
            "20 :  4\n",
            "------------------\n",
            "[{1, 2, 3, 4, 5, 6, 7, 8, 9, 10, 11, 12, 13, 14, 15, 16, 17, 18, 19, 20}, {1, 2, 3, 4, 5, 6, 7, 8, 9, 10, 11, 12, 15, 16, 17, 18, 19, 20}, {13, 14}]\n"
          ]
        }
      ]
    },
    {
      "cell_type": "markdown",
      "source": [
        "## Small world phenomenon - eksperyment Milgrama 1967\n",
        "\n",
        "Czy $G(n, p)$ jest dobrym modelem zjawiska"
      ],
      "metadata": {
        "id": "IJJ7PP0oRyDU"
      }
    },
    {
      "cell_type": "code",
      "source": [
        "n = 2000\n",
        "p = 1/300\n",
        "\n",
        "# żeby nie było błędów rekursji\n",
        "from sys import setrecursionlimit\n",
        "setrecursionlimit(n+5)\n",
        "\n",
        "rgraph = random_graph(n, p)\n",
        "lista = ConnectedComponents(rgraph)\n",
        "print(len(lista))"
      ],
      "metadata": {
        "colab": {
          "base_uri": "https://localhost:8080/"
        },
        "id": "Oxv7TKVASBpy",
        "outputId": "daca3c97-d21a-49e7-b3be-9d4fe724af5d"
      },
      "execution_count": 55,
      "outputs": [
        {
          "output_type": "stream",
          "name": "stdout",
          "text": [
            "2\n"
          ]
        }
      ]
    },
    {
      "cell_type": "markdown",
      "source": [
        "Mam listę długości 2 - graf spójny."
      ],
      "metadata": {
        "id": "n8YDrOrmS-In"
      }
    },
    {
      "cell_type": "code",
      "source": [
        "md = {}\n",
        "ecc = {}\n",
        "for v in rgraph:\n",
        "  dist = Distance(rgraph, v)\n",
        "  ecc[v] = max(dist.values())\n",
        "  md[v] = sum(dist.values()) / len(dist)\n",
        "print(\"Promień :\", min(ecc.values()), \" Średnica: \", max(ecc.values()), \" Średnio:\", sum(md.values())/len(md))  "
      ],
      "metadata": {
        "colab": {
          "base_uri": "https://localhost:8080/"
        },
        "id": "4oBiL6mITE2L",
        "outputId": "c42e5446-a777-4a75-8190-7331d6ef49d0"
      },
      "execution_count": 57,
      "outputs": [
        {
          "output_type": "stream",
          "name": "stdout",
          "text": [
            "Promień : 5  Średnica:  8  Średnio: 4.216433500000003\n"
          ]
        }
      ]
    }
  ],
  "metadata": {
    "colab": {
      "provenance": [],
      "include_colab_link": true
    },
    "kernelspec": {
      "display_name": "Python 3 (ipykernel)",
      "language": "python",
      "name": "python3"
    },
    "language_info": {
      "codemirror_mode": {
        "name": "ipython",
        "version": 3
      },
      "file_extension": ".py",
      "mimetype": "text/x-python",
      "name": "python",
      "nbconvert_exporter": "python",
      "pygments_lexer": "ipython3",
      "version": "3.9.2"
    }
  },
  "nbformat": 4,
  "nbformat_minor": 0
}